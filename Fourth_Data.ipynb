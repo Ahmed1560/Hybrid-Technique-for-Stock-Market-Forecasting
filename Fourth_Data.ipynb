{
  "nbformat": 4,
  "nbformat_minor": 0,
  "metadata": {
    "colab": {
      "name": "data_preparation.ipynb",
      "provenance": [],
      "collapsed_sections": []
    },
    "kernelspec": {
      "display_name": "Python 3",
      "language": "python",
      "name": "python3"
    },
    "language_info": {
      "codemirror_mode": {
        "name": "ipython",
        "version": 3
      },
      "file_extension": ".py",
      "mimetype": "text/x-python",
      "name": "python",
      "nbconvert_exporter": "python",
      "pygments_lexer": "ipython3",
      "version": "3.6.5"
    }
  },
  "cells": [
    {
      "cell_type": "code",
      "metadata": {
        "colab": {
          "base_uri": "https://localhost:8080/"
        },
        "id": "ZLwFNHV1mzXv",
        "outputId": "43013c48-e3ac-4074-b7c9-afae98a73943"
      },
      "source": [
        "from google.colab import drive\n",
        "drive.mount('/content/drive')"
      ],
      "execution_count": 438,
      "outputs": [
        {
          "output_type": "stream",
          "text": [
            "Drive already mounted at /content/drive; to attempt to forcibly remount, call drive.mount(\"/content/drive\", force_remount=True).\n"
          ],
          "name": "stdout"
        }
      ]
    },
    {
      "cell_type": "code",
      "metadata": {
        "id": "SLDyJaNHms7b"
      },
      "source": [
        "import warnings\n",
        "warnings.filterwarnings('ignore')\n",
        "\n",
        "import math\n",
        "import pandas as pd\n",
        "import numpy as np\n",
        "import tensorflow as tf\n",
        "import matplotlib.pyplot as plt\n",
        "import seaborn as sns\n",
        "from keras.models import Sequential\n",
        "from keras.layers import Input, Dense, TimeDistributed, Activation, RepeatVector, Bidirectional, Dropout, LSTM\n",
        "import nltk\n",
        "from nltk.classify import NaiveBayesClassifier\n",
        "from nltk.corpus import subjectivity\n",
        "from nltk.sentiment import SentimentAnalyzer\n",
        "from nltk.sentiment.util import *\n",
        "from sklearn import preprocessing, metrics\n",
        "from sklearn.preprocessing import MinMaxScaler\n",
        "import tensorflow as tf"
      ],
      "execution_count": 439,
      "outputs": []
    },
    {
      "cell_type": "code",
      "metadata": {
        "id": "ETCwrq50ms7f"
      },
      "source": [
        "df_news=pd.read_json('/content/drive/MyDrive/headlines.json',convert_dates=['Date'])"
      ],
      "execution_count": 440,
      "outputs": []
    },
    {
      "cell_type": "code",
      "metadata": {
        "id": "qF7-KroXms7f"
      },
      "source": [
        "df_news=pd.DataFrame.from_records(df_news['news'])"
      ],
      "execution_count": 441,
      "outputs": []
    },
    {
      "cell_type": "code",
      "metadata": {
        "colab": {
          "base_uri": "https://localhost:8080/",
          "height": 204
        },
        "id": "Rrugk9kjms7g",
        "outputId": "fad1bbc0-d023-4740-c6df-ea5374abc70f"
      },
      "source": [
        "df_news.head()"
      ],
      "execution_count": 442,
      "outputs": [
        {
          "output_type": "execute_result",
          "data": {
            "text/html": [
              "<div>\n",
              "<style scoped>\n",
              "    .dataframe tbody tr th:only-of-type {\n",
              "        vertical-align: middle;\n",
              "    }\n",
              "\n",
              "    .dataframe tbody tr th {\n",
              "        vertical-align: top;\n",
              "    }\n",
              "\n",
              "    .dataframe thead th {\n",
              "        text-align: right;\n",
              "    }\n",
              "</style>\n",
              "<table border=\"1\" class=\"dataframe\">\n",
              "  <thead>\n",
              "    <tr style=\"text-align: right;\">\n",
              "      <th></th>\n",
              "      <th>Date</th>\n",
              "      <th>headlines</th>\n",
              "    </tr>\n",
              "  </thead>\n",
              "  <tbody>\n",
              "    <tr>\n",
              "      <th>0</th>\n",
              "      <td>2011-01-01</td>\n",
              "      <td>Transporters threaten protest, hike in fares.P...</td>\n",
              "    </tr>\n",
              "    <tr>\n",
              "      <th>1</th>\n",
              "      <td>2011-01-02</td>\n",
              "      <td>Power sector’s payables cross Rs275bn mark.No ...</td>\n",
              "    </tr>\n",
              "    <tr>\n",
              "      <th>2</th>\n",
              "      <td>2011-01-03</td>\n",
              "      <td>Sui cantonment turned into military college.De...</td>\n",
              "    </tr>\n",
              "    <tr>\n",
              "      <th>3</th>\n",
              "      <td>2011-01-04</td>\n",
              "      <td>Big loss to progressive forces, says Sherry.Bl...</td>\n",
              "    </tr>\n",
              "    <tr>\n",
              "      <th>4</th>\n",
              "      <td>2011-01-05</td>\n",
              "      <td>Naming new Punjab governor a test for Zardari....</td>\n",
              "    </tr>\n",
              "  </tbody>\n",
              "</table>\n",
              "</div>"
            ],
            "text/plain": [
              "         Date                                          headlines\n",
              "0  2011-01-01  Transporters threaten protest, hike in fares.P...\n",
              "1  2011-01-02  Power sector’s payables cross Rs275bn mark.No ...\n",
              "2  2011-01-03  Sui cantonment turned into military college.De...\n",
              "3  2011-01-04  Big loss to progressive forces, says Sherry.Bl...\n",
              "4  2011-01-05  Naming new Punjab governor a test for Zardari...."
            ]
          },
          "metadata": {
            "tags": []
          },
          "execution_count": 442
        }
      ]
    },
    {
      "cell_type": "code",
      "metadata": {
        "id": "74PgxUSQms7h"
      },
      "source": [
        "df_news['Date']=pd.to_datetime(df_news['Date'])"
      ],
      "execution_count": 443,
      "outputs": []
    },
    {
      "cell_type": "code",
      "metadata": {
        "id": "EOXbSZlgms7i"
      },
      "source": [
        "df_news['Date']=df_news['Date'].dt.strftime('%d-%b-%Y')"
      ],
      "execution_count": 444,
      "outputs": []
    },
    {
      "cell_type": "code",
      "metadata": {
        "id": "1NDT3C72ms7i"
      },
      "source": [
        "df_bank=pd.read_csv('/content/drive/MyDrive/HBL_01012010_07062018.csv')"
      ],
      "execution_count": 445,
      "outputs": []
    },
    {
      "cell_type": "code",
      "metadata": {
        "colab": {
          "base_uri": "https://localhost:8080/",
          "height": 204
        },
        "id": "BeBC57BOms7i",
        "outputId": "62cd4f07-4613-49ca-a832-40a5159da927"
      },
      "source": [
        "df_bank.head()"
      ],
      "execution_count": 446,
      "outputs": [
        {
          "output_type": "execute_result",
          "data": {
            "text/html": [
              "<div>\n",
              "<style scoped>\n",
              "    .dataframe tbody tr th:only-of-type {\n",
              "        vertical-align: middle;\n",
              "    }\n",
              "\n",
              "    .dataframe tbody tr th {\n",
              "        vertical-align: top;\n",
              "    }\n",
              "\n",
              "    .dataframe thead th {\n",
              "        text-align: right;\n",
              "    }\n",
              "</style>\n",
              "<table border=\"1\" class=\"dataframe\">\n",
              "  <thead>\n",
              "    <tr style=\"text-align: right;\">\n",
              "      <th></th>\n",
              "      <th>Symbol</th>\n",
              "      <th>Date</th>\n",
              "      <th>Open</th>\n",
              "      <th>High</th>\n",
              "      <th>Low</th>\n",
              "      <th>Close</th>\n",
              "      <th>Volume</th>\n",
              "    </tr>\n",
              "  </thead>\n",
              "  <tbody>\n",
              "    <tr>\n",
              "      <th>0</th>\n",
              "      <td>HBL</td>\n",
              "      <td>04-Jan-2010</td>\n",
              "      <td>123.40</td>\n",
              "      <td>124.70</td>\n",
              "      <td>123.20</td>\n",
              "      <td>123.79</td>\n",
              "      <td>121296</td>\n",
              "    </tr>\n",
              "    <tr>\n",
              "      <th>1</th>\n",
              "      <td>HBL</td>\n",
              "      <td>05-Jan-2010</td>\n",
              "      <td>124.50</td>\n",
              "      <td>128.00</td>\n",
              "      <td>124.31</td>\n",
              "      <td>127.40</td>\n",
              "      <td>866016</td>\n",
              "    </tr>\n",
              "    <tr>\n",
              "      <th>2</th>\n",
              "      <td>HBL</td>\n",
              "      <td>06-Jan-2010</td>\n",
              "      <td>128.25</td>\n",
              "      <td>129.99</td>\n",
              "      <td>127.41</td>\n",
              "      <td>128.00</td>\n",
              "      <td>926924</td>\n",
              "    </tr>\n",
              "    <tr>\n",
              "      <th>3</th>\n",
              "      <td>HBL</td>\n",
              "      <td>07-Jan-2010</td>\n",
              "      <td>128.49</td>\n",
              "      <td>134.40</td>\n",
              "      <td>127.67</td>\n",
              "      <td>133.61</td>\n",
              "      <td>3268357</td>\n",
              "    </tr>\n",
              "    <tr>\n",
              "      <th>4</th>\n",
              "      <td>HBL</td>\n",
              "      <td>08-Jan-2010</td>\n",
              "      <td>133.25</td>\n",
              "      <td>134.00</td>\n",
              "      <td>131.50</td>\n",
              "      <td>133.26</td>\n",
              "      <td>1042705</td>\n",
              "    </tr>\n",
              "  </tbody>\n",
              "</table>\n",
              "</div>"
            ],
            "text/plain": [
              "  Symbol         Date    Open    High     Low   Close   Volume\n",
              "0    HBL  04-Jan-2010  123.40  124.70  123.20  123.79   121296\n",
              "1    HBL  05-Jan-2010  124.50  128.00  124.31  127.40   866016\n",
              "2    HBL  06-Jan-2010  128.25  129.99  127.41  128.00   926924\n",
              "3    HBL  07-Jan-2010  128.49  134.40  127.67  133.61  3268357\n",
              "4    HBL  08-Jan-2010  133.25  134.00  131.50  133.26  1042705"
            ]
          },
          "metadata": {
            "tags": []
          },
          "execution_count": 446
        }
      ]
    },
    {
      "cell_type": "code",
      "metadata": {
        "id": "xS2ypMbkms7j"
      },
      "source": [
        "df_merged=df_bank.merge(df_news,on='Date')"
      ],
      "execution_count": 447,
      "outputs": []
    },
    {
      "cell_type": "code",
      "metadata": {
        "colab": {
          "base_uri": "https://localhost:8080/",
          "height": 204
        },
        "id": "HVCWJkGhms7k",
        "outputId": "55c928eb-16e8-4f70-cd6e-4082d716fc88"
      },
      "source": [
        "df_merged.head()"
      ],
      "execution_count": 448,
      "outputs": [
        {
          "output_type": "execute_result",
          "data": {
            "text/html": [
              "<div>\n",
              "<style scoped>\n",
              "    .dataframe tbody tr th:only-of-type {\n",
              "        vertical-align: middle;\n",
              "    }\n",
              "\n",
              "    .dataframe tbody tr th {\n",
              "        vertical-align: top;\n",
              "    }\n",
              "\n",
              "    .dataframe thead th {\n",
              "        text-align: right;\n",
              "    }\n",
              "</style>\n",
              "<table border=\"1\" class=\"dataframe\">\n",
              "  <thead>\n",
              "    <tr style=\"text-align: right;\">\n",
              "      <th></th>\n",
              "      <th>Symbol</th>\n",
              "      <th>Date</th>\n",
              "      <th>Open</th>\n",
              "      <th>High</th>\n",
              "      <th>Low</th>\n",
              "      <th>Close</th>\n",
              "      <th>Volume</th>\n",
              "      <th>headlines</th>\n",
              "    </tr>\n",
              "  </thead>\n",
              "  <tbody>\n",
              "    <tr>\n",
              "      <th>0</th>\n",
              "      <td>HBL</td>\n",
              "      <td>03-Jan-2011</td>\n",
              "      <td>120.20</td>\n",
              "      <td>121.00</td>\n",
              "      <td>116.80</td>\n",
              "      <td>119.49</td>\n",
              "      <td>510969</td>\n",
              "      <td>Sui cantonment turned into military college.De...</td>\n",
              "    </tr>\n",
              "    <tr>\n",
              "      <th>1</th>\n",
              "      <td>HBL</td>\n",
              "      <td>04-Jan-2011</td>\n",
              "      <td>119.50</td>\n",
              "      <td>122.30</td>\n",
              "      <td>119.50</td>\n",
              "      <td>121.87</td>\n",
              "      <td>627959</td>\n",
              "      <td>Big loss to progressive forces, says Sherry.Bl...</td>\n",
              "    </tr>\n",
              "    <tr>\n",
              "      <th>2</th>\n",
              "      <td>HBL</td>\n",
              "      <td>05-Jan-2011</td>\n",
              "      <td>121.75</td>\n",
              "      <td>126.45</td>\n",
              "      <td>121.40</td>\n",
              "      <td>124.93</td>\n",
              "      <td>1506848</td>\n",
              "      <td>Naming new Punjab governor a test for Zardari....</td>\n",
              "    </tr>\n",
              "    <tr>\n",
              "      <th>3</th>\n",
              "      <td>HBL</td>\n",
              "      <td>06-Jan-2011</td>\n",
              "      <td>124.50</td>\n",
              "      <td>125.89</td>\n",
              "      <td>123.75</td>\n",
              "      <td>124.98</td>\n",
              "      <td>773913</td>\n",
              "      <td>Violence in Pakistan declines: US report.Power...</td>\n",
              "    </tr>\n",
              "    <tr>\n",
              "      <th>4</th>\n",
              "      <td>HBL</td>\n",
              "      <td>07-Jan-2011</td>\n",
              "      <td>125.84</td>\n",
              "      <td>126.06</td>\n",
              "      <td>124.69</td>\n",
              "      <td>124.99</td>\n",
              "      <td>376749</td>\n",
              "      <td>President vows to expose Taseer’s killers.Bena...</td>\n",
              "    </tr>\n",
              "  </tbody>\n",
              "</table>\n",
              "</div>"
            ],
            "text/plain": [
              "  Symbol  ...                                          headlines\n",
              "0    HBL  ...  Sui cantonment turned into military college.De...\n",
              "1    HBL  ...  Big loss to progressive forces, says Sherry.Bl...\n",
              "2    HBL  ...  Naming new Punjab governor a test for Zardari....\n",
              "3    HBL  ...  Violence in Pakistan declines: US report.Power...\n",
              "4    HBL  ...  President vows to expose Taseer’s killers.Bena...\n",
              "\n",
              "[5 rows x 8 columns]"
            ]
          },
          "metadata": {
            "tags": []
          },
          "execution_count": 448
        }
      ]
    },
    {
      "cell_type": "code",
      "metadata": {
        "colab": {
          "base_uri": "https://localhost:8080/"
        },
        "id": "_9g70d7zms7k",
        "outputId": "954cda90-583a-4410-a92e-ac891ee6864f"
      },
      "source": [
        "df_merged.shape"
      ],
      "execution_count": 449,
      "outputs": [
        {
          "output_type": "execute_result",
          "data": {
            "text/plain": [
              "(1846, 8)"
            ]
          },
          "metadata": {
            "tags": []
          },
          "execution_count": 449
        }
      ]
    },
    {
      "cell_type": "code",
      "metadata": {
        "id": "P0j7UG_tog97"
      },
      "source": [
        "stock_data = df_merged"
      ],
      "execution_count": 450,
      "outputs": []
    },
    {
      "cell_type": "code",
      "metadata": {
        "colab": {
          "base_uri": "https://localhost:8080/",
          "height": 204
        },
        "id": "K5XA0_FNms7n",
        "outputId": "ea0ec1d6-5094-4719-fbed-3e7cb1f3de35"
      },
      "source": [
        "stock_data['compound'] = ''\n",
        "stock_data['negative'] = ''\n",
        "stock_data['neutral'] = ''\n",
        "stock_data['positive'] = ''\n",
        "stock_data['subjectivity'] = ''\n",
        "stock_data.head()"
      ],
      "execution_count": 451,
      "outputs": [
        {
          "output_type": "execute_result",
          "data": {
            "text/html": [
              "<div>\n",
              "<style scoped>\n",
              "    .dataframe tbody tr th:only-of-type {\n",
              "        vertical-align: middle;\n",
              "    }\n",
              "\n",
              "    .dataframe tbody tr th {\n",
              "        vertical-align: top;\n",
              "    }\n",
              "\n",
              "    .dataframe thead th {\n",
              "        text-align: right;\n",
              "    }\n",
              "</style>\n",
              "<table border=\"1\" class=\"dataframe\">\n",
              "  <thead>\n",
              "    <tr style=\"text-align: right;\">\n",
              "      <th></th>\n",
              "      <th>Symbol</th>\n",
              "      <th>Date</th>\n",
              "      <th>Open</th>\n",
              "      <th>High</th>\n",
              "      <th>Low</th>\n",
              "      <th>Close</th>\n",
              "      <th>Volume</th>\n",
              "      <th>headlines</th>\n",
              "      <th>compound</th>\n",
              "      <th>negative</th>\n",
              "      <th>neutral</th>\n",
              "      <th>positive</th>\n",
              "      <th>subjectivity</th>\n",
              "    </tr>\n",
              "  </thead>\n",
              "  <tbody>\n",
              "    <tr>\n",
              "      <th>0</th>\n",
              "      <td>HBL</td>\n",
              "      <td>03-Jan-2011</td>\n",
              "      <td>120.20</td>\n",
              "      <td>121.00</td>\n",
              "      <td>116.80</td>\n",
              "      <td>119.49</td>\n",
              "      <td>510969</td>\n",
              "      <td>Sui cantonment turned into military college.De...</td>\n",
              "      <td></td>\n",
              "      <td></td>\n",
              "      <td></td>\n",
              "      <td></td>\n",
              "      <td></td>\n",
              "    </tr>\n",
              "    <tr>\n",
              "      <th>1</th>\n",
              "      <td>HBL</td>\n",
              "      <td>04-Jan-2011</td>\n",
              "      <td>119.50</td>\n",
              "      <td>122.30</td>\n",
              "      <td>119.50</td>\n",
              "      <td>121.87</td>\n",
              "      <td>627959</td>\n",
              "      <td>Big loss to progressive forces, says Sherry.Bl...</td>\n",
              "      <td></td>\n",
              "      <td></td>\n",
              "      <td></td>\n",
              "      <td></td>\n",
              "      <td></td>\n",
              "    </tr>\n",
              "    <tr>\n",
              "      <th>2</th>\n",
              "      <td>HBL</td>\n",
              "      <td>05-Jan-2011</td>\n",
              "      <td>121.75</td>\n",
              "      <td>126.45</td>\n",
              "      <td>121.40</td>\n",
              "      <td>124.93</td>\n",
              "      <td>1506848</td>\n",
              "      <td>Naming new Punjab governor a test for Zardari....</td>\n",
              "      <td></td>\n",
              "      <td></td>\n",
              "      <td></td>\n",
              "      <td></td>\n",
              "      <td></td>\n",
              "    </tr>\n",
              "    <tr>\n",
              "      <th>3</th>\n",
              "      <td>HBL</td>\n",
              "      <td>06-Jan-2011</td>\n",
              "      <td>124.50</td>\n",
              "      <td>125.89</td>\n",
              "      <td>123.75</td>\n",
              "      <td>124.98</td>\n",
              "      <td>773913</td>\n",
              "      <td>Violence in Pakistan declines: US report.Power...</td>\n",
              "      <td></td>\n",
              "      <td></td>\n",
              "      <td></td>\n",
              "      <td></td>\n",
              "      <td></td>\n",
              "    </tr>\n",
              "    <tr>\n",
              "      <th>4</th>\n",
              "      <td>HBL</td>\n",
              "      <td>07-Jan-2011</td>\n",
              "      <td>125.84</td>\n",
              "      <td>126.06</td>\n",
              "      <td>124.69</td>\n",
              "      <td>124.99</td>\n",
              "      <td>376749</td>\n",
              "      <td>President vows to expose Taseer’s killers.Bena...</td>\n",
              "      <td></td>\n",
              "      <td></td>\n",
              "      <td></td>\n",
              "      <td></td>\n",
              "      <td></td>\n",
              "    </tr>\n",
              "  </tbody>\n",
              "</table>\n",
              "</div>"
            ],
            "text/plain": [
              "  Symbol         Date    Open    High  ...  negative  neutral  positive subjectivity\n",
              "0    HBL  03-Jan-2011  120.20  121.00  ...                                          \n",
              "1    HBL  04-Jan-2011  119.50  122.30  ...                                          \n",
              "2    HBL  05-Jan-2011  121.75  126.45  ...                                          \n",
              "3    HBL  06-Jan-2011  124.50  125.89  ...                                          \n",
              "4    HBL  07-Jan-2011  125.84  126.06  ...                                          \n",
              "\n",
              "[5 rows x 13 columns]"
            ]
          },
          "metadata": {
            "tags": []
          },
          "execution_count": 451
        }
      ]
    },
    {
      "cell_type": "code",
      "metadata": {
        "colab": {
          "base_uri": "https://localhost:8080/"
        },
        "id": "RXkKASdxomA_",
        "outputId": "967c1761-2246-4abc-c1d2-b919285e0dbd"
      },
      "source": [
        " import nltk\n",
        " nltk.download('vader_lexicon')"
      ],
      "execution_count": 452,
      "outputs": [
        {
          "output_type": "stream",
          "text": [
            "[nltk_data] Downloading package vader_lexicon to /root/nltk_data...\n",
            "[nltk_data]   Package vader_lexicon is already up-to-date!\n"
          ],
          "name": "stdout"
        },
        {
          "output_type": "execute_result",
          "data": {
            "text/plain": [
              "True"
            ]
          },
          "metadata": {
            "tags": []
          },
          "execution_count": 452
        }
      ]
    },
    {
      "cell_type": "code",
      "metadata": {
        "colab": {
          "base_uri": "https://localhost:8080/",
          "height": 204
        },
        "id": "aiCHmlUVorzk",
        "outputId": "9d415646-4358-4467-c7df-3a187ed83e05"
      },
      "source": [
        "from nltk.sentiment.vader import SentimentIntensityAnalyzer\n",
        "import unicodedata\n",
        "# instantiating the Sentiment Analyzer\n",
        "sid = SentimentIntensityAnalyzer()\n",
        "# calculating sentiment scores\n",
        "stock_data['compound'] = stock_data['headlines'].apply(lambda x: sid.polarity_scores(x)['compound'])\n",
        "stock_data['negative'] = stock_data['headlines'].apply(lambda x: sid.polarity_scores(x)['neg'])\n",
        "stock_data['neutral'] = stock_data['headlines'].apply(lambda x: sid.polarity_scores(x)['neu'])\n",
        "stock_data['positive'] = stock_data['headlines'].apply(lambda x: sid.polarity_scores(x)['pos'])\n",
        "# displaying the stock data\n",
        "stock_data.head()"
      ],
      "execution_count": 453,
      "outputs": [
        {
          "output_type": "execute_result",
          "data": {
            "text/html": [
              "<div>\n",
              "<style scoped>\n",
              "    .dataframe tbody tr th:only-of-type {\n",
              "        vertical-align: middle;\n",
              "    }\n",
              "\n",
              "    .dataframe tbody tr th {\n",
              "        vertical-align: top;\n",
              "    }\n",
              "\n",
              "    .dataframe thead th {\n",
              "        text-align: right;\n",
              "    }\n",
              "</style>\n",
              "<table border=\"1\" class=\"dataframe\">\n",
              "  <thead>\n",
              "    <tr style=\"text-align: right;\">\n",
              "      <th></th>\n",
              "      <th>Symbol</th>\n",
              "      <th>Date</th>\n",
              "      <th>Open</th>\n",
              "      <th>High</th>\n",
              "      <th>Low</th>\n",
              "      <th>Close</th>\n",
              "      <th>Volume</th>\n",
              "      <th>headlines</th>\n",
              "      <th>compound</th>\n",
              "      <th>negative</th>\n",
              "      <th>neutral</th>\n",
              "      <th>positive</th>\n",
              "      <th>subjectivity</th>\n",
              "    </tr>\n",
              "  </thead>\n",
              "  <tbody>\n",
              "    <tr>\n",
              "      <th>0</th>\n",
              "      <td>HBL</td>\n",
              "      <td>03-Jan-2011</td>\n",
              "      <td>120.20</td>\n",
              "      <td>121.00</td>\n",
              "      <td>116.80</td>\n",
              "      <td>119.49</td>\n",
              "      <td>510969</td>\n",
              "      <td>Sui cantonment turned into military college.De...</td>\n",
              "      <td>-0.8934</td>\n",
              "      <td>0.172</td>\n",
              "      <td>0.746</td>\n",
              "      <td>0.082</td>\n",
              "      <td></td>\n",
              "    </tr>\n",
              "    <tr>\n",
              "      <th>1</th>\n",
              "      <td>HBL</td>\n",
              "      <td>04-Jan-2011</td>\n",
              "      <td>119.50</td>\n",
              "      <td>122.30</td>\n",
              "      <td>119.50</td>\n",
              "      <td>121.87</td>\n",
              "      <td>627959</td>\n",
              "      <td>Big loss to progressive forces, says Sherry.Bl...</td>\n",
              "      <td>-0.6996</td>\n",
              "      <td>0.133</td>\n",
              "      <td>0.806</td>\n",
              "      <td>0.060</td>\n",
              "      <td></td>\n",
              "    </tr>\n",
              "    <tr>\n",
              "      <th>2</th>\n",
              "      <td>HBL</td>\n",
              "      <td>05-Jan-2011</td>\n",
              "      <td>121.75</td>\n",
              "      <td>126.45</td>\n",
              "      <td>121.40</td>\n",
              "      <td>124.93</td>\n",
              "      <td>1506848</td>\n",
              "      <td>Naming new Punjab governor a test for Zardari....</td>\n",
              "      <td>-0.9442</td>\n",
              "      <td>0.319</td>\n",
              "      <td>0.638</td>\n",
              "      <td>0.044</td>\n",
              "      <td></td>\n",
              "    </tr>\n",
              "    <tr>\n",
              "      <th>3</th>\n",
              "      <td>HBL</td>\n",
              "      <td>06-Jan-2011</td>\n",
              "      <td>124.50</td>\n",
              "      <td>125.89</td>\n",
              "      <td>123.75</td>\n",
              "      <td>124.98</td>\n",
              "      <td>773913</td>\n",
              "      <td>Violence in Pakistan declines: US report.Power...</td>\n",
              "      <td>-0.7906</td>\n",
              "      <td>0.179</td>\n",
              "      <td>0.726</td>\n",
              "      <td>0.094</td>\n",
              "      <td></td>\n",
              "    </tr>\n",
              "    <tr>\n",
              "      <th>4</th>\n",
              "      <td>HBL</td>\n",
              "      <td>07-Jan-2011</td>\n",
              "      <td>125.84</td>\n",
              "      <td>126.06</td>\n",
              "      <td>124.69</td>\n",
              "      <td>124.99</td>\n",
              "      <td>376749</td>\n",
              "      <td>President vows to expose Taseer’s killers.Bena...</td>\n",
              "      <td>-0.5859</td>\n",
              "      <td>0.140</td>\n",
              "      <td>0.766</td>\n",
              "      <td>0.094</td>\n",
              "      <td></td>\n",
              "    </tr>\n",
              "  </tbody>\n",
              "</table>\n",
              "</div>"
            ],
            "text/plain": [
              "  Symbol         Date    Open    High  ...  negative  neutral  positive subjectivity\n",
              "0    HBL  03-Jan-2011  120.20  121.00  ...     0.172    0.746     0.082             \n",
              "1    HBL  04-Jan-2011  119.50  122.30  ...     0.133    0.806     0.060             \n",
              "2    HBL  05-Jan-2011  121.75  126.45  ...     0.319    0.638     0.044             \n",
              "3    HBL  06-Jan-2011  124.50  125.89  ...     0.179    0.726     0.094             \n",
              "4    HBL  07-Jan-2011  125.84  126.06  ...     0.140    0.766     0.094             \n",
              "\n",
              "[5 rows x 13 columns]"
            ]
          },
          "metadata": {
            "tags": []
          },
          "execution_count": 453
        }
      ]
    },
    {
      "cell_type": "code",
      "metadata": {
        "colab": {
          "base_uri": "https://localhost:8080/",
          "height": 204
        },
        "id": "egn8wQ7Fo6op",
        "outputId": "55a04043-795e-4b45-9016-2f474a22a6a8"
      },
      "source": [
        "from textblob import TextBlob\n",
        "def getsubjectivity(text):\n",
        "    return TextBlob(text).sentiment.subjectivity\n",
        "stock_data['subjectivity'] = stock_data ['headlines'].apply(getsubjectivity)\n",
        "stock_data.head()"
      ],
      "execution_count": 454,
      "outputs": [
        {
          "output_type": "execute_result",
          "data": {
            "text/html": [
              "<div>\n",
              "<style scoped>\n",
              "    .dataframe tbody tr th:only-of-type {\n",
              "        vertical-align: middle;\n",
              "    }\n",
              "\n",
              "    .dataframe tbody tr th {\n",
              "        vertical-align: top;\n",
              "    }\n",
              "\n",
              "    .dataframe thead th {\n",
              "        text-align: right;\n",
              "    }\n",
              "</style>\n",
              "<table border=\"1\" class=\"dataframe\">\n",
              "  <thead>\n",
              "    <tr style=\"text-align: right;\">\n",
              "      <th></th>\n",
              "      <th>Symbol</th>\n",
              "      <th>Date</th>\n",
              "      <th>Open</th>\n",
              "      <th>High</th>\n",
              "      <th>Low</th>\n",
              "      <th>Close</th>\n",
              "      <th>Volume</th>\n",
              "      <th>headlines</th>\n",
              "      <th>compound</th>\n",
              "      <th>negative</th>\n",
              "      <th>neutral</th>\n",
              "      <th>positive</th>\n",
              "      <th>subjectivity</th>\n",
              "    </tr>\n",
              "  </thead>\n",
              "  <tbody>\n",
              "    <tr>\n",
              "      <th>0</th>\n",
              "      <td>HBL</td>\n",
              "      <td>03-Jan-2011</td>\n",
              "      <td>120.20</td>\n",
              "      <td>121.00</td>\n",
              "      <td>116.80</td>\n",
              "      <td>119.49</td>\n",
              "      <td>510969</td>\n",
              "      <td>Sui cantonment turned into military college.De...</td>\n",
              "      <td>-0.8934</td>\n",
              "      <td>0.172</td>\n",
              "      <td>0.746</td>\n",
              "      <td>0.082</td>\n",
              "      <td>0.237500</td>\n",
              "    </tr>\n",
              "    <tr>\n",
              "      <th>1</th>\n",
              "      <td>HBL</td>\n",
              "      <td>04-Jan-2011</td>\n",
              "      <td>119.50</td>\n",
              "      <td>122.30</td>\n",
              "      <td>119.50</td>\n",
              "      <td>121.87</td>\n",
              "      <td>627959</td>\n",
              "      <td>Big loss to progressive forces, says Sherry.Bl...</td>\n",
              "      <td>-0.6996</td>\n",
              "      <td>0.133</td>\n",
              "      <td>0.806</td>\n",
              "      <td>0.060</td>\n",
              "      <td>0.296667</td>\n",
              "    </tr>\n",
              "    <tr>\n",
              "      <th>2</th>\n",
              "      <td>HBL</td>\n",
              "      <td>05-Jan-2011</td>\n",
              "      <td>121.75</td>\n",
              "      <td>126.45</td>\n",
              "      <td>121.40</td>\n",
              "      <td>124.93</td>\n",
              "      <td>1506848</td>\n",
              "      <td>Naming new Punjab governor a test for Zardari....</td>\n",
              "      <td>-0.9442</td>\n",
              "      <td>0.319</td>\n",
              "      <td>0.638</td>\n",
              "      <td>0.044</td>\n",
              "      <td>0.257071</td>\n",
              "    </tr>\n",
              "    <tr>\n",
              "      <th>3</th>\n",
              "      <td>HBL</td>\n",
              "      <td>06-Jan-2011</td>\n",
              "      <td>124.50</td>\n",
              "      <td>125.89</td>\n",
              "      <td>123.75</td>\n",
              "      <td>124.98</td>\n",
              "      <td>773913</td>\n",
              "      <td>Violence in Pakistan declines: US report.Power...</td>\n",
              "      <td>-0.7906</td>\n",
              "      <td>0.179</td>\n",
              "      <td>0.726</td>\n",
              "      <td>0.094</td>\n",
              "      <td>0.541667</td>\n",
              "    </tr>\n",
              "    <tr>\n",
              "      <th>4</th>\n",
              "      <td>HBL</td>\n",
              "      <td>07-Jan-2011</td>\n",
              "      <td>125.84</td>\n",
              "      <td>126.06</td>\n",
              "      <td>124.69</td>\n",
              "      <td>124.99</td>\n",
              "      <td>376749</td>\n",
              "      <td>President vows to expose Taseer’s killers.Bena...</td>\n",
              "      <td>-0.5859</td>\n",
              "      <td>0.140</td>\n",
              "      <td>0.766</td>\n",
              "      <td>0.094</td>\n",
              "      <td>0.229630</td>\n",
              "    </tr>\n",
              "  </tbody>\n",
              "</table>\n",
              "</div>"
            ],
            "text/plain": [
              "  Symbol         Date    Open  ...  neutral  positive  subjectivity\n",
              "0    HBL  03-Jan-2011  120.20  ...    0.746     0.082      0.237500\n",
              "1    HBL  04-Jan-2011  119.50  ...    0.806     0.060      0.296667\n",
              "2    HBL  05-Jan-2011  121.75  ...    0.638     0.044      0.257071\n",
              "3    HBL  06-Jan-2011  124.50  ...    0.726     0.094      0.541667\n",
              "4    HBL  07-Jan-2011  125.84  ...    0.766     0.094      0.229630\n",
              "\n",
              "[5 rows x 13 columns]"
            ]
          },
          "metadata": {
            "tags": []
          },
          "execution_count": 454
        }
      ]
    },
    {
      "cell_type": "code",
      "metadata": {
        "colab": {
          "base_uri": "https://localhost:8080/",
          "height": 235
        },
        "id": "aXzDPIv9pLfE",
        "outputId": "ef5104f2-e0ee-4b02-fb03-9b7f4c3f1cf5"
      },
      "source": [
        "# dropping the 'headline_text' which is unwanted now\n",
        "stock_data.drop(['headlines'], inplace=True, axis=1)\n",
        "stock_data.drop(['Symbol'], inplace=True, axis=1)\n",
        "# rearranging the columns of the whole stock_data\n",
        "stock_data = stock_data[['Open'\t,'High',\t'Low',\t'Close',\t'Volume','compound',\t'negative',\t'neutral'\t,'positive',\t'subjectivity']]\n",
        "\n",
        "# set the index name\n",
        "stock_data.index.name = 'Date'\n",
        "\n",
        "# displaying the final stock_data\n",
        "stock_data.head()"
      ],
      "execution_count": 455,
      "outputs": [
        {
          "output_type": "execute_result",
          "data": {
            "text/html": [
              "<div>\n",
              "<style scoped>\n",
              "    .dataframe tbody tr th:only-of-type {\n",
              "        vertical-align: middle;\n",
              "    }\n",
              "\n",
              "    .dataframe tbody tr th {\n",
              "        vertical-align: top;\n",
              "    }\n",
              "\n",
              "    .dataframe thead th {\n",
              "        text-align: right;\n",
              "    }\n",
              "</style>\n",
              "<table border=\"1\" class=\"dataframe\">\n",
              "  <thead>\n",
              "    <tr style=\"text-align: right;\">\n",
              "      <th></th>\n",
              "      <th>Open</th>\n",
              "      <th>High</th>\n",
              "      <th>Low</th>\n",
              "      <th>Close</th>\n",
              "      <th>Volume</th>\n",
              "      <th>compound</th>\n",
              "      <th>negative</th>\n",
              "      <th>neutral</th>\n",
              "      <th>positive</th>\n",
              "      <th>subjectivity</th>\n",
              "    </tr>\n",
              "    <tr>\n",
              "      <th>Date</th>\n",
              "      <th></th>\n",
              "      <th></th>\n",
              "      <th></th>\n",
              "      <th></th>\n",
              "      <th></th>\n",
              "      <th></th>\n",
              "      <th></th>\n",
              "      <th></th>\n",
              "      <th></th>\n",
              "      <th></th>\n",
              "    </tr>\n",
              "  </thead>\n",
              "  <tbody>\n",
              "    <tr>\n",
              "      <th>0</th>\n",
              "      <td>120.20</td>\n",
              "      <td>121.00</td>\n",
              "      <td>116.80</td>\n",
              "      <td>119.49</td>\n",
              "      <td>510969</td>\n",
              "      <td>-0.8934</td>\n",
              "      <td>0.172</td>\n",
              "      <td>0.746</td>\n",
              "      <td>0.082</td>\n",
              "      <td>0.237500</td>\n",
              "    </tr>\n",
              "    <tr>\n",
              "      <th>1</th>\n",
              "      <td>119.50</td>\n",
              "      <td>122.30</td>\n",
              "      <td>119.50</td>\n",
              "      <td>121.87</td>\n",
              "      <td>627959</td>\n",
              "      <td>-0.6996</td>\n",
              "      <td>0.133</td>\n",
              "      <td>0.806</td>\n",
              "      <td>0.060</td>\n",
              "      <td>0.296667</td>\n",
              "    </tr>\n",
              "    <tr>\n",
              "      <th>2</th>\n",
              "      <td>121.75</td>\n",
              "      <td>126.45</td>\n",
              "      <td>121.40</td>\n",
              "      <td>124.93</td>\n",
              "      <td>1506848</td>\n",
              "      <td>-0.9442</td>\n",
              "      <td>0.319</td>\n",
              "      <td>0.638</td>\n",
              "      <td>0.044</td>\n",
              "      <td>0.257071</td>\n",
              "    </tr>\n",
              "    <tr>\n",
              "      <th>3</th>\n",
              "      <td>124.50</td>\n",
              "      <td>125.89</td>\n",
              "      <td>123.75</td>\n",
              "      <td>124.98</td>\n",
              "      <td>773913</td>\n",
              "      <td>-0.7906</td>\n",
              "      <td>0.179</td>\n",
              "      <td>0.726</td>\n",
              "      <td>0.094</td>\n",
              "      <td>0.541667</td>\n",
              "    </tr>\n",
              "    <tr>\n",
              "      <th>4</th>\n",
              "      <td>125.84</td>\n",
              "      <td>126.06</td>\n",
              "      <td>124.69</td>\n",
              "      <td>124.99</td>\n",
              "      <td>376749</td>\n",
              "      <td>-0.5859</td>\n",
              "      <td>0.140</td>\n",
              "      <td>0.766</td>\n",
              "      <td>0.094</td>\n",
              "      <td>0.229630</td>\n",
              "    </tr>\n",
              "  </tbody>\n",
              "</table>\n",
              "</div>"
            ],
            "text/plain": [
              "        Open    High     Low   Close  ...  negative  neutral  positive  subjectivity\n",
              "Date                                  ...                                           \n",
              "0     120.20  121.00  116.80  119.49  ...     0.172    0.746     0.082      0.237500\n",
              "1     119.50  122.30  119.50  121.87  ...     0.133    0.806     0.060      0.296667\n",
              "2     121.75  126.45  121.40  124.93  ...     0.319    0.638     0.044      0.257071\n",
              "3     124.50  125.89  123.75  124.98  ...     0.179    0.726     0.094      0.541667\n",
              "4     125.84  126.06  124.69  124.99  ...     0.140    0.766     0.094      0.229630\n",
              "\n",
              "[5 rows x 10 columns]"
            ]
          },
          "metadata": {
            "tags": []
          },
          "execution_count": 455
        }
      ]
    },
    {
      "cell_type": "code",
      "metadata": {
        "colab": {
          "base_uri": "https://localhost:8080/"
        },
        "id": "y_tUP0HqpnNN",
        "outputId": "6bd9b55e-ac6d-43e0-b9f4-80587da5a944"
      },
      "source": [
        "# calculating data_to_use\n",
        "percentage_of_data = 1.0\n",
        "data_to_use = int(percentage_of_data*(len(stock_data)-1))\n",
        "\n",
        "# using 90% of data for training\n",
        "train_end = int(data_to_use*0.90)\n",
        "total_data = len(stock_data)\n",
        "start = total_data - data_to_use\n",
        "\n",
        "# printing number of records in the training and test datasets\n",
        "print(\"Number of records in Training Data:\", train_end)\n",
        "print(\"Number of records in Test Data:\", total_data - train_end)"
      ],
      "execution_count": 456,
      "outputs": [
        {
          "output_type": "stream",
          "text": [
            "Number of records in Training Data: 1660\n",
            "Number of records in Test Data: 186\n"
          ],
          "name": "stdout"
        }
      ]
    },
    {
      "cell_type": "code",
      "metadata": {
        "colab": {
          "base_uri": "https://localhost:8080/",
          "height": 111
        },
        "id": "keprr_Q1qA3U",
        "outputId": "01bd2f83-3e52-4c92-93a8-b6b8e04c8166"
      },
      "source": [
        "stock_data.head(1)"
      ],
      "execution_count": 457,
      "outputs": [
        {
          "output_type": "execute_result",
          "data": {
            "text/html": [
              "<div>\n",
              "<style scoped>\n",
              "    .dataframe tbody tr th:only-of-type {\n",
              "        vertical-align: middle;\n",
              "    }\n",
              "\n",
              "    .dataframe tbody tr th {\n",
              "        vertical-align: top;\n",
              "    }\n",
              "\n",
              "    .dataframe thead th {\n",
              "        text-align: right;\n",
              "    }\n",
              "</style>\n",
              "<table border=\"1\" class=\"dataframe\">\n",
              "  <thead>\n",
              "    <tr style=\"text-align: right;\">\n",
              "      <th></th>\n",
              "      <th>Open</th>\n",
              "      <th>High</th>\n",
              "      <th>Low</th>\n",
              "      <th>Close</th>\n",
              "      <th>Volume</th>\n",
              "      <th>compound</th>\n",
              "      <th>negative</th>\n",
              "      <th>neutral</th>\n",
              "      <th>positive</th>\n",
              "      <th>subjectivity</th>\n",
              "    </tr>\n",
              "    <tr>\n",
              "      <th>Date</th>\n",
              "      <th></th>\n",
              "      <th></th>\n",
              "      <th></th>\n",
              "      <th></th>\n",
              "      <th></th>\n",
              "      <th></th>\n",
              "      <th></th>\n",
              "      <th></th>\n",
              "      <th></th>\n",
              "      <th></th>\n",
              "    </tr>\n",
              "  </thead>\n",
              "  <tbody>\n",
              "    <tr>\n",
              "      <th>0</th>\n",
              "      <td>120.2</td>\n",
              "      <td>121.0</td>\n",
              "      <td>116.8</td>\n",
              "      <td>119.49</td>\n",
              "      <td>510969</td>\n",
              "      <td>-0.8934</td>\n",
              "      <td>0.172</td>\n",
              "      <td>0.746</td>\n",
              "      <td>0.082</td>\n",
              "      <td>0.2375</td>\n",
              "    </tr>\n",
              "  </tbody>\n",
              "</table>\n",
              "</div>"
            ],
            "text/plain": [
              "       Open   High    Low   Close  ...  negative  neutral  positive  subjectivity\n",
              "Date                               ...                                           \n",
              "0     120.2  121.0  116.8  119.49  ...     0.172    0.746     0.082        0.2375\n",
              "\n",
              "[1 rows x 10 columns]"
            ]
          },
          "metadata": {
            "tags": []
          },
          "execution_count": 457
        }
      ]
    },
    {
      "cell_type": "code",
      "metadata": {
        "colab": {
          "base_uri": "https://localhost:8080/"
        },
        "id": "sVYibDWYp7Q3",
        "outputId": "5c560ccb-7eb8-4869-973e-5646428b6d67"
      },
      "source": [
        "# predicting one step ahead\n",
        "# steps_to_predict = 1\n",
        "\n",
        "# capturing data to be used for each column\n",
        "open_price = stock_data.iloc[start:total_data,0] #open\n",
        "high = stock_data.iloc[start:total_data,1] #high\n",
        "low = stock_data.iloc[start:total_data,2] #low\n",
        "close_price = stock_data.iloc[start:total_data,3] #close\n",
        "volume = stock_data.iloc[start:total_data,4] #volume\n",
        "compound = stock_data.iloc[start:total_data,5] #compound\n",
        "negative = stock_data.iloc[start:total_data,6] #negative\n",
        "neutral = stock_data.iloc[start:total_data,7] #neutral\n",
        "positive = stock_data.iloc[start:total_data,8] #positive\n",
        "subjectivity = stock_data.iloc[start:total_data,9] #subjectivity\n",
        "\n",
        "# printing close price\n",
        "print(\"Close Price:\")\n",
        "close_price"
      ],
      "execution_count": 458,
      "outputs": [
        {
          "output_type": "stream",
          "text": [
            "Close Price:\n"
          ],
          "name": "stdout"
        },
        {
          "output_type": "execute_result",
          "data": {
            "text/plain": [
              "Date\n",
              "1       121.87\n",
              "2       124.93\n",
              "3       124.98\n",
              "4       124.99\n",
              "5       123.56\n",
              "         ...  \n",
              "1841    172.91\n",
              "1842    174.80\n",
              "1843    181.72\n",
              "1844    189.47\n",
              "1845    184.88\n",
              "Name: Close, Length: 1845, dtype: float64"
            ]
          },
          "metadata": {
            "tags": []
          },
          "execution_count": 458
        }
      ]
    },
    {
      "cell_type": "code",
      "metadata": {
        "colab": {
          "base_uri": "https://localhost:8080/",
          "height": 390
        },
        "id": "lel3kujzqw20",
        "outputId": "4e0ef072-eb06-46e7-d472-bfc0f25382e1"
      },
      "source": [
        "# # shifting next day close\n",
        "# close_price_shifted = close_price.shift(-1) \n",
        "\n",
        "# shifting next day compound\n",
        "compound_shifted = compound.shift(-1) \n",
        "\n",
        "# concatenating the captured training data into a dataframe\n",
        "data = pd.concat([close_price, compound , compound_shifted, negative, neutral,positive ,open_price, high, low, volume], axis=1)\n",
        "\n",
        "# setting column names of the revised stock data\n",
        "data.columns = ['close_price', 'compound', 'compound_shifted','negative', 'neutral','positive','open_price' ,'high', 'low', 'volume']\n",
        "\n",
        "# dropping nulls\n",
        "data = data.dropna()\n",
        "data.head(10)"
      ],
      "execution_count": 459,
      "outputs": [
        {
          "output_type": "execute_result",
          "data": {
            "text/html": [
              "<div>\n",
              "<style scoped>\n",
              "    .dataframe tbody tr th:only-of-type {\n",
              "        vertical-align: middle;\n",
              "    }\n",
              "\n",
              "    .dataframe tbody tr th {\n",
              "        vertical-align: top;\n",
              "    }\n",
              "\n",
              "    .dataframe thead th {\n",
              "        text-align: right;\n",
              "    }\n",
              "</style>\n",
              "<table border=\"1\" class=\"dataframe\">\n",
              "  <thead>\n",
              "    <tr style=\"text-align: right;\">\n",
              "      <th></th>\n",
              "      <th>close_price</th>\n",
              "      <th>compound</th>\n",
              "      <th>compound_shifted</th>\n",
              "      <th>negative</th>\n",
              "      <th>neutral</th>\n",
              "      <th>positive</th>\n",
              "      <th>open_price</th>\n",
              "      <th>high</th>\n",
              "      <th>low</th>\n",
              "      <th>volume</th>\n",
              "    </tr>\n",
              "    <tr>\n",
              "      <th>Date</th>\n",
              "      <th></th>\n",
              "      <th></th>\n",
              "      <th></th>\n",
              "      <th></th>\n",
              "      <th></th>\n",
              "      <th></th>\n",
              "      <th></th>\n",
              "      <th></th>\n",
              "      <th></th>\n",
              "      <th></th>\n",
              "    </tr>\n",
              "  </thead>\n",
              "  <tbody>\n",
              "    <tr>\n",
              "      <th>1</th>\n",
              "      <td>121.87</td>\n",
              "      <td>-0.6996</td>\n",
              "      <td>-0.9442</td>\n",
              "      <td>0.133</td>\n",
              "      <td>0.806</td>\n",
              "      <td>0.060</td>\n",
              "      <td>119.50</td>\n",
              "      <td>122.30</td>\n",
              "      <td>119.50</td>\n",
              "      <td>627959</td>\n",
              "    </tr>\n",
              "    <tr>\n",
              "      <th>2</th>\n",
              "      <td>124.93</td>\n",
              "      <td>-0.9442</td>\n",
              "      <td>-0.7906</td>\n",
              "      <td>0.319</td>\n",
              "      <td>0.638</td>\n",
              "      <td>0.044</td>\n",
              "      <td>121.75</td>\n",
              "      <td>126.45</td>\n",
              "      <td>121.40</td>\n",
              "      <td>1506848</td>\n",
              "    </tr>\n",
              "    <tr>\n",
              "      <th>3</th>\n",
              "      <td>124.98</td>\n",
              "      <td>-0.7906</td>\n",
              "      <td>-0.5859</td>\n",
              "      <td>0.179</td>\n",
              "      <td>0.726</td>\n",
              "      <td>0.094</td>\n",
              "      <td>124.50</td>\n",
              "      <td>125.89</td>\n",
              "      <td>123.75</td>\n",
              "      <td>773913</td>\n",
              "    </tr>\n",
              "    <tr>\n",
              "      <th>4</th>\n",
              "      <td>124.99</td>\n",
              "      <td>-0.5859</td>\n",
              "      <td>-0.9723</td>\n",
              "      <td>0.140</td>\n",
              "      <td>0.766</td>\n",
              "      <td>0.094</td>\n",
              "      <td>125.84</td>\n",
              "      <td>126.06</td>\n",
              "      <td>124.69</td>\n",
              "      <td>376749</td>\n",
              "    </tr>\n",
              "    <tr>\n",
              "      <th>5</th>\n",
              "      <td>123.56</td>\n",
              "      <td>-0.9723</td>\n",
              "      <td>-0.9578</td>\n",
              "      <td>0.272</td>\n",
              "      <td>0.667</td>\n",
              "      <td>0.062</td>\n",
              "      <td>126.24</td>\n",
              "      <td>126.80</td>\n",
              "      <td>123.00</td>\n",
              "      <td>166214</td>\n",
              "    </tr>\n",
              "    <tr>\n",
              "      <th>6</th>\n",
              "      <td>123.01</td>\n",
              "      <td>-0.9578</td>\n",
              "      <td>-0.3818</td>\n",
              "      <td>0.225</td>\n",
              "      <td>0.674</td>\n",
              "      <td>0.101</td>\n",
              "      <td>123.61</td>\n",
              "      <td>124.50</td>\n",
              "      <td>122.75</td>\n",
              "      <td>329849</td>\n",
              "    </tr>\n",
              "    <tr>\n",
              "      <th>7</th>\n",
              "      <td>127.87</td>\n",
              "      <td>-0.3818</td>\n",
              "      <td>-0.7184</td>\n",
              "      <td>0.125</td>\n",
              "      <td>0.757</td>\n",
              "      <td>0.118</td>\n",
              "      <td>124.00</td>\n",
              "      <td>128.90</td>\n",
              "      <td>123.89</td>\n",
              "      <td>788687</td>\n",
              "    </tr>\n",
              "    <tr>\n",
              "      <th>8</th>\n",
              "      <td>127.60</td>\n",
              "      <td>-0.7184</td>\n",
              "      <td>-0.8720</td>\n",
              "      <td>0.121</td>\n",
              "      <td>0.783</td>\n",
              "      <td>0.096</td>\n",
              "      <td>128.70</td>\n",
              "      <td>128.97</td>\n",
              "      <td>126.25</td>\n",
              "      <td>156709</td>\n",
              "    </tr>\n",
              "    <tr>\n",
              "      <th>9</th>\n",
              "      <td>126.70</td>\n",
              "      <td>-0.8720</td>\n",
              "      <td>-0.5994</td>\n",
              "      <td>0.154</td>\n",
              "      <td>0.771</td>\n",
              "      <td>0.074</td>\n",
              "      <td>128.48</td>\n",
              "      <td>128.48</td>\n",
              "      <td>126.45</td>\n",
              "      <td>278339</td>\n",
              "    </tr>\n",
              "    <tr>\n",
              "      <th>10</th>\n",
              "      <td>126.79</td>\n",
              "      <td>-0.5994</td>\n",
              "      <td>-0.7506</td>\n",
              "      <td>0.143</td>\n",
              "      <td>0.752</td>\n",
              "      <td>0.104</td>\n",
              "      <td>127.75</td>\n",
              "      <td>128.00</td>\n",
              "      <td>126.34</td>\n",
              "      <td>195832</td>\n",
              "    </tr>\n",
              "  </tbody>\n",
              "</table>\n",
              "</div>"
            ],
            "text/plain": [
              "      close_price  compound  compound_shifted  ...    high     low   volume\n",
              "Date                                           ...                         \n",
              "1          121.87   -0.6996           -0.9442  ...  122.30  119.50   627959\n",
              "2          124.93   -0.9442           -0.7906  ...  126.45  121.40  1506848\n",
              "3          124.98   -0.7906           -0.5859  ...  125.89  123.75   773913\n",
              "4          124.99   -0.5859           -0.9723  ...  126.06  124.69   376749\n",
              "5          123.56   -0.9723           -0.9578  ...  126.80  123.00   166214\n",
              "6          123.01   -0.9578           -0.3818  ...  124.50  122.75   329849\n",
              "7          127.87   -0.3818           -0.7184  ...  128.90  123.89   788687\n",
              "8          127.60   -0.7184           -0.8720  ...  128.97  126.25   156709\n",
              "9          126.70   -0.8720           -0.5994  ...  128.48  126.45   278339\n",
              "10         126.79   -0.5994           -0.7506  ...  128.00  126.34   195832\n",
              "\n",
              "[10 rows x 10 columns]"
            ]
          },
          "metadata": {
            "tags": []
          },
          "execution_count": 459
        }
      ]
    },
    {
      "cell_type": "code",
      "metadata": {
        "colab": {
          "base_uri": "https://localhost:8080/",
          "height": 1000
        },
        "id": "-cKYOKMmrE7W",
        "outputId": "3dcdc1b5-18bc-41cb-dc9d-af34e1e4109a"
      },
      "source": [
        "import seaborn as sns\n",
        "#get correlations of each features in dataset\n",
        "corrmat = data.corr()\n",
        "top_corr_features = corrmat.index\n",
        "plt.figure(figsize=(20,20))\n",
        "#plot heat map\n",
        "g=sns.heatmap(data[top_corr_features].corr(),annot=True,cmap=\"RdYlGn\")"
      ],
      "execution_count": 460,
      "outputs": [
        {
          "output_type": "display_data",
          "data": {
            "image/png": "[encoded data removed]",
            "text/plain": [
              "<Figure size 1440x1440 with 2 Axes>"
            ]
          },
          "metadata": {
            "tags": [],
            "needs_background": "light"
          }
        }
      ]
    },
    {
      "cell_type": "code",
      "metadata": {
        "colab": {
          "base_uri": "https://localhost:8080/",
          "height": 111
        },
        "id": "FcCTrgYwu2q9",
        "outputId": "f573dfa2-dd37-49de-8d22-598ebdfa9541"
      },
      "source": [
        "data.head(1)"
      ],
      "execution_count": 461,
      "outputs": [
        {
          "output_type": "execute_result",
          "data": {
            "text/html": [
              "<div>\n",
              "<style scoped>\n",
              "    .dataframe tbody tr th:only-of-type {\n",
              "        vertical-align: middle;\n",
              "    }\n",
              "\n",
              "    .dataframe tbody tr th {\n",
              "        vertical-align: top;\n",
              "    }\n",
              "\n",
              "    .dataframe thead th {\n",
              "        text-align: right;\n",
              "    }\n",
              "</style>\n",
              "<table border=\"1\" class=\"dataframe\">\n",
              "  <thead>\n",
              "    <tr style=\"text-align: right;\">\n",
              "      <th></th>\n",
              "      <th>close_price</th>\n",
              "      <th>compound</th>\n",
              "      <th>compound_shifted</th>\n",
              "      <th>negative</th>\n",
              "      <th>neutral</th>\n",
              "      <th>positive</th>\n",
              "      <th>open_price</th>\n",
              "      <th>high</th>\n",
              "      <th>low</th>\n",
              "      <th>volume</th>\n",
              "    </tr>\n",
              "    <tr>\n",
              "      <th>Date</th>\n",
              "      <th></th>\n",
              "      <th></th>\n",
              "      <th></th>\n",
              "      <th></th>\n",
              "      <th></th>\n",
              "      <th></th>\n",
              "      <th></th>\n",
              "      <th></th>\n",
              "      <th></th>\n",
              "      <th></th>\n",
              "    </tr>\n",
              "  </thead>\n",
              "  <tbody>\n",
              "    <tr>\n",
              "      <th>1</th>\n",
              "      <td>121.87</td>\n",
              "      <td>-0.6996</td>\n",
              "      <td>-0.9442</td>\n",
              "      <td>0.133</td>\n",
              "      <td>0.806</td>\n",
              "      <td>0.06</td>\n",
              "      <td>119.5</td>\n",
              "      <td>122.3</td>\n",
              "      <td>119.5</td>\n",
              "      <td>627959</td>\n",
              "    </tr>\n",
              "  </tbody>\n",
              "</table>\n",
              "</div>"
            ],
            "text/plain": [
              "      close_price  compound  compound_shifted  ...   high    low  volume\n",
              "Date                                           ...                      \n",
              "1          121.87   -0.6996           -0.9442  ...  122.3  119.5  627959\n",
              "\n",
              "[1 rows x 10 columns]"
            ]
          },
          "metadata": {
            "tags": []
          },
          "execution_count": 461
        }
      ]
    },
    {
      "cell_type": "code",
      "metadata": {
        "colab": {
          "base_uri": "https://localhost:8080/",
          "height": 450
        },
        "id": "otkhoyYHrg7-",
        "outputId": "7de19a1f-aa00-415d-b253-25c278ae0e06"
      },
      "source": [
        "# setting the features dataset for prediction  \n",
        "cols = ['open_price' ,'high', 'low']\n",
        "x = data[cols]\n",
        "x"
      ],
      "execution_count": 603,
      "outputs": [
        {
          "output_type": "execute_result",
          "data": {
            "text/html": [
              "<div>\n",
              "<style scoped>\n",
              "    .dataframe tbody tr th:only-of-type {\n",
              "        vertical-align: middle;\n",
              "    }\n",
              "\n",
              "    .dataframe tbody tr th {\n",
              "        vertical-align: top;\n",
              "    }\n",
              "\n",
              "    .dataframe thead th {\n",
              "        text-align: right;\n",
              "    }\n",
              "</style>\n",
              "<table border=\"1\" class=\"dataframe\">\n",
              "  <thead>\n",
              "    <tr style=\"text-align: right;\">\n",
              "      <th></th>\n",
              "      <th>open_price</th>\n",
              "      <th>high</th>\n",
              "      <th>low</th>\n",
              "    </tr>\n",
              "    <tr>\n",
              "      <th>Date</th>\n",
              "      <th></th>\n",
              "      <th></th>\n",
              "      <th></th>\n",
              "    </tr>\n",
              "  </thead>\n",
              "  <tbody>\n",
              "    <tr>\n",
              "      <th>1</th>\n",
              "      <td>119.50</td>\n",
              "      <td>122.30</td>\n",
              "      <td>119.50</td>\n",
              "    </tr>\n",
              "    <tr>\n",
              "      <th>2</th>\n",
              "      <td>121.75</td>\n",
              "      <td>126.45</td>\n",
              "      <td>121.40</td>\n",
              "    </tr>\n",
              "    <tr>\n",
              "      <th>3</th>\n",
              "      <td>124.50</td>\n",
              "      <td>125.89</td>\n",
              "      <td>123.75</td>\n",
              "    </tr>\n",
              "    <tr>\n",
              "      <th>4</th>\n",
              "      <td>125.84</td>\n",
              "      <td>126.06</td>\n",
              "      <td>124.69</td>\n",
              "    </tr>\n",
              "    <tr>\n",
              "      <th>5</th>\n",
              "      <td>126.24</td>\n",
              "      <td>126.80</td>\n",
              "      <td>123.00</td>\n",
              "    </tr>\n",
              "    <tr>\n",
              "      <th>...</th>\n",
              "      <td>...</td>\n",
              "      <td>...</td>\n",
              "      <td>...</td>\n",
              "    </tr>\n",
              "    <tr>\n",
              "      <th>1840</th>\n",
              "      <td>169.05</td>\n",
              "      <td>175.50</td>\n",
              "      <td>166.56</td>\n",
              "    </tr>\n",
              "    <tr>\n",
              "      <th>1841</th>\n",
              "      <td>165.00</td>\n",
              "      <td>174.25</td>\n",
              "      <td>165.00</td>\n",
              "    </tr>\n",
              "    <tr>\n",
              "      <th>1842</th>\n",
              "      <td>172.00</td>\n",
              "      <td>176.49</td>\n",
              "      <td>171.00</td>\n",
              "    </tr>\n",
              "    <tr>\n",
              "      <th>1843</th>\n",
              "      <td>175.00</td>\n",
              "      <td>183.54</td>\n",
              "      <td>174.02</td>\n",
              "    </tr>\n",
              "    <tr>\n",
              "      <th>1844</th>\n",
              "      <td>181.00</td>\n",
              "      <td>189.74</td>\n",
              "      <td>180.02</td>\n",
              "    </tr>\n",
              "  </tbody>\n",
              "</table>\n",
              "<p>1844 rows × 3 columns</p>\n",
              "</div>"
            ],
            "text/plain": [
              "      open_price    high     low\n",
              "Date                            \n",
              "1         119.50  122.30  119.50\n",
              "2         121.75  126.45  121.40\n",
              "3         124.50  125.89  123.75\n",
              "4         125.84  126.06  124.69\n",
              "5         126.24  126.80  123.00\n",
              "...          ...     ...     ...\n",
              "1840      169.05  175.50  166.56\n",
              "1841      165.00  174.25  165.00\n",
              "1842      172.00  176.49  171.00\n",
              "1843      175.00  183.54  174.02\n",
              "1844      181.00  189.74  180.02\n",
              "\n",
              "[1844 rows x 3 columns]"
            ]
          },
          "metadata": {
            "tags": []
          },
          "execution_count": 603
        }
      ]
    },
    {
      "cell_type": "code",
      "metadata": {
        "colab": {
          "base_uri": "https://localhost:8080/"
        },
        "id": "u-CZX2k6u7T3",
        "outputId": "d3e0d6b2-555e-4b97-a988-2644c07cf8ba"
      },
      "source": [
        "# setting the target variable as the shifted close_price\n",
        "y = data['close_price']\n",
        "y"
      ],
      "execution_count": 604,
      "outputs": [
        {
          "output_type": "execute_result",
          "data": {
            "text/plain": [
              "Date\n",
              "1       121.87\n",
              "2       124.93\n",
              "3       124.98\n",
              "4       124.99\n",
              "5       123.56\n",
              "         ...  \n",
              "1840    171.19\n",
              "1841    172.91\n",
              "1842    174.80\n",
              "1843    181.72\n",
              "1844    189.47\n",
              "Name: close_price, Length: 1844, dtype: float64"
            ]
          },
          "metadata": {
            "tags": []
          },
          "execution_count": 604
        }
      ]
    },
    {
      "cell_type": "code",
      "metadata": {
        "colab": {
          "base_uri": "https://localhost:8080/"
        },
        "id": "dCtb72iAvkBI",
        "outputId": "3ed5e7be-8d00-4f1b-b783-08d9600f807e"
      },
      "source": [
        "# scaling the feature dataset\n",
        "scaler_x = preprocessing.MinMaxScaler (feature_range=(-1, 1))\n",
        "x = np.array(x).reshape((len(x) ,len(cols)))\n",
        "x = scaler_x.fit_transform(x)\n",
        "\n",
        "# scaling the target variable\n",
        "scaler_y = preprocessing.MinMaxScaler (feature_range=(-1, 1))\n",
        "y = np.array (y).reshape ((len( y), 1))\n",
        "y = scaler_y.fit_transform (y)\n",
        "\n",
        "# displaying the scaled feature dataset and the target variable\n",
        "x, y"
      ],
      "execution_count": 605,
      "outputs": [
        {
          "output_type": "execute_result",
          "data": {
            "text/plain": [
              "(array([[-0.71776375, -0.704     , -0.71135719],\n",
              "        [-0.6974752 , -0.66711111, -0.69396907],\n",
              "        [-0.67267809, -0.67208889, -0.67246271],\n",
              "        ...,\n",
              "        [-0.24436429, -0.22231111, -0.24004759],\n",
              "        [-0.21731289, -0.15964444, -0.21240963],\n",
              "        [-0.1632101 , -0.10453333, -0.15749977]]), array([[-0.69288661],\n",
              "        [-0.66514032],\n",
              "        [-0.66468695],\n",
              "        ...,\n",
              "        [-0.21294827],\n",
              "        [-0.15020175],\n",
              "        [-0.07992927]]))"
            ]
          },
          "metadata": {
            "tags": []
          },
          "execution_count": 605
        }
      ]
    },
    {
      "cell_type": "code",
      "metadata": {
        "colab": {
          "base_uri": "https://localhost:8080/"
        },
        "id": "l5SHEuOUvn7M",
        "outputId": "6dbf4f87-e92a-44da-a24d-a1aebb34c5af"
      },
      "source": [
        "# preparing training and test dataset\n",
        "X_train = x[0 : train_end,]\n",
        "X_test = x[train_end+1 : len(x),]    \n",
        "y_train = y[0 : train_end] \n",
        "y_test = y[train_end+1 : len(y)]  \n",
        "\n",
        "# printing the shape of the training and the test datasets\n",
        "print('Number of rows and columns in the Training set X:', X_train.shape, 'and y:', y_train.shape)\n",
        "print('Number of rows and columns in the Test set X:', X_test.shape, 'and y:', y_test.shape)"
      ],
      "execution_count": 606,
      "outputs": [
        {
          "output_type": "stream",
          "text": [
            "Number of rows and columns in the Training set X: (1660, 3) and y: (1660, 1)\n",
            "Number of rows and columns in the Test set X: (183, 3) and y: (183, 1)\n"
          ],
          "name": "stdout"
        }
      ]
    },
    {
      "cell_type": "code",
      "metadata": {
        "colab": {
          "base_uri": "https://localhost:8080/"
        },
        "id": "EQw8S44AvrIZ",
        "outputId": "1677171f-25c8-4955-cdfb-5c9008dcc600"
      },
      "source": [
        "# reshaping the feature dataset for feeding into the model\n",
        "X_train = X_train.reshape (X_train.shape + (1,)) \n",
        "X_test = X_test.reshape(X_test.shape + (1,))\n",
        "\n",
        "# printing the re-shaped feature dataset\n",
        "print('Shape of Training set X:', X_train.shape)\n",
        "print('Shape of Test set X:', X_test.shape)"
      ],
      "execution_count": 607,
      "outputs": [
        {
          "output_type": "stream",
          "text": [
            "Shape of Training set X: (1660, 3, 1)\n",
            "Shape of Test set X: (183, 3, 1)\n"
          ],
          "name": "stdout"
        }
      ]
    },
    {
      "cell_type": "code",
      "metadata": {
        "colab": {
          "base_uri": "https://localhost:8080/"
        },
        "id": "8vprZPAgF0dG",
        "outputId": "bfd5b4ab-86b4-459a-a840-11aaf26ea471"
      },
      "source": [
        "np.random.seed(2016)\n",
        "tf.random.set_seed(2016)\n",
        "model=Sequential()\n",
        "model.add(LSTM(5,activation='tanh',input_shape=(len(cols),1)))\n",
        "model.add(Dropout(0.2))\n",
        "model.add(Dense(1))\n",
        "model.summary()"
      ],
      "execution_count": 608,
      "outputs": [
        {
          "output_type": "stream",
          "text": [
            "Model: \"sequential_63\"\n",
            "_________________________________________________________________\n",
            "Layer (type)                 Output Shape              Param #   \n",
            "=================================================================\n",
            "lstm_63 (LSTM)               (None, 5)                 140       \n",
            "_________________________________________________________________\n",
            "dropout_63 (Dropout)         (None, 5)                 0         \n",
            "_________________________________________________________________\n",
            "dense_63 (Dense)             (None, 1)                 6         \n",
            "=================================================================\n",
            "Total params: 146\n",
            "Trainable params: 146\n",
            "Non-trainable params: 0\n",
            "_________________________________________________________________\n"
          ],
          "name": "stdout"
        }
      ]
    },
    {
      "cell_type": "code",
      "metadata": {
        "colab": {
          "base_uri": "https://localhost:8080/"
        },
        "id": "7mG5NkHL2xsi",
        "outputId": "a0d997d4-6faa-43ca-ab91-d6af0325685b"
      },
      "source": [
        "# compiling the model\n",
        "model.compile(loss='mse' , optimizer='adam')\n",
        "\n",
        "# fitting the model using the training dataset\n",
        "hist = model.fit(X_train, y_train, validation_split=0.1, epochs=8, batch_size=5, verbose=1)"
      ],
      "execution_count": 609,
      "outputs": [
        {
          "output_type": "stream",
          "text": [
            "Epoch 1/8\n",
            "299/299 [==============================] - 3s 5ms/step - loss: 0.1512 - val_loss: 0.1021\n",
            "Epoch 2/8\n",
            "299/299 [==============================] - 1s 3ms/step - loss: 0.0257 - val_loss: 0.0325\n",
            "Epoch 3/8\n",
            "299/299 [==============================] - 1s 3ms/step - loss: 0.0178 - val_loss: 0.0252\n",
            "Epoch 4/8\n",
            "299/299 [==============================] - 1s 3ms/step - loss: 0.0141 - val_loss: 0.0219\n",
            "Epoch 5/8\n",
            "299/299 [==============================] - 1s 3ms/step - loss: 0.0119 - val_loss: 0.0166\n",
            "Epoch 6/8\n",
            "299/299 [==============================] - 1s 3ms/step - loss: 0.0105 - val_loss: 0.0142\n",
            "Epoch 7/8\n",
            "299/299 [==============================] - 1s 3ms/step - loss: 0.0116 - val_loss: 0.0121\n",
            "Epoch 8/8\n",
            "299/299 [==============================] - 1s 3ms/step - loss: 0.0099 - val_loss: 0.0098\n"
          ],
          "name": "stdout"
        }
      ]
    },
    {
      "cell_type": "code",
      "metadata": {
        "colab": {
          "base_uri": "https://localhost:8080/",
          "height": 295
        },
        "id": "ApqPzfETm1Uu",
        "outputId": "b7f8efb8-5c7b-473b-f21c-a9cdb3b94558"
      },
      "source": [
        "plt.plot(hist.history['loss'])\n",
        "plt.plot(hist.history['val_loss'])\n",
        "plt.title('Model loss')\n",
        "plt.ylabel('Loss')\n",
        "plt.xlabel('Epoch')\n",
        "plt.legend(['Train', 'Val'], loc='upper right')\n",
        "plt.show()"
      ],
      "execution_count": 610,
      "outputs": [
        {
          "output_type": "display_data",
          "data": {
            "image/png": "[encoded data removed]",
            "text/plain": [
              "<Figure size 432x288 with 1 Axes>"
            ]
          },
          "metadata": {
            "tags": [],
            "needs_background": "light"
          }
        }
      ]
    },
    {
      "cell_type": "code",
      "metadata": {
        "colab": {
          "base_uri": "https://localhost:8080/"
        },
        "id": "rmJTyUxVv0g3",
        "outputId": "32ecf12b-03e8-4729-d63b-9e1a61ede00b"
      },
      "source": [
        "# performing predictions\n",
        "predictions = model.predict(X_test) \n",
        "\n",
        "# unscaling the predictions\n",
        "predictions = scaler_y.inverse_transform(np.array(predictions).reshape((len(predictions), 1)))\n",
        "\n",
        "# printing the predictions\n",
        "print('Predictions:')\n",
        "predictions[0:5]"
      ],
      "execution_count": 611,
      "outputs": [
        {
          "output_type": "stream",
          "text": [
            "Predictions:\n"
          ],
          "name": "stdout"
        },
        {
          "output_type": "execute_result",
          "data": {
            "text/plain": [
              "array([[193.0412 ],\n",
              "       [190.59637],\n",
              "       [188.62709],\n",
              "       [185.22253],\n",
              "       [182.78316]], dtype=float32)"
            ]
          },
          "metadata": {
            "tags": []
          },
          "execution_count": 611
        }
      ]
    },
    {
      "cell_type": "code",
      "metadata": {
        "colab": {
          "base_uri": "https://localhost:8080/"
        },
        "id": "EXemsBltv6CF",
        "outputId": "7d12bad4-b8b2-4c98-ec0c-0773102abbdb"
      },
      "source": [
        "# calculating the training mean-squared-error\n",
        "train_loss = model.evaluate(X_train, y_train, batch_size = 1)\n",
        "\n",
        "# calculating the test mean-squared-error\n",
        "test_loss = model.evaluate(X_test, y_test, batch_size = 1)\n",
        "\n",
        "# printing the training and the test mean-squared-errors\n",
        "print('Train Loss =', round(train_loss,4))\n",
        "print('Test Loss =', round(test_loss,4))"
      ],
      "execution_count": 612,
      "outputs": [
        {
          "output_type": "stream",
          "text": [
            "1660/1660 [==============================] - 3s 1ms/step - loss: 0.0015\n",
            "183/183 [==============================] - 0s 2ms/step - loss: 5.3460e-04\n",
            "Train Loss = 0.0015\n",
            "Test Loss = 0.0005\n"
          ],
          "name": "stdout"
        }
      ]
    },
    {
      "cell_type": "code",
      "metadata": {
        "id": "3ZbQNvLkv56d"
      },
      "source": [
        "# unscaling the test feature dataset, x_test\n",
        "X_test = scaler_x.inverse_transform(np.array(X_test).reshape((len(X_test), len(cols))))\n",
        "\n",
        "# unscaling the test y dataset, y_test\n",
        "y_train = scaler_y.inverse_transform(np.array(y_train).reshape((len(y_train), 1)))\n",
        "y_test = scaler_y.inverse_transform(np.array(y_test).reshape((len(y_test), 1)))"
      ],
      "execution_count": 613,
      "outputs": []
    },
    {
      "cell_type": "code",
      "metadata": {
        "colab": {
          "base_uri": "https://localhost:8080/"
        },
        "id": "4jD6iwE3jB4N",
        "outputId": "baeb8e06-fdd7-4532-a22b-de55706ba67f"
      },
      "source": [
        "# calculating root mean squared error\n",
        "root_mean_square_error = np.sqrt(np.mean(np.power((y_test - predictions),2)))\n",
        "print('Root Mean Square Error =', round(root_mean_square_error,4))"
      ],
      "execution_count": 614,
      "outputs": [
        {
          "output_type": "stream",
          "text": [
            "Root Mean Square Error = 2.5499\n"
          ],
          "name": "stdout"
        }
      ]
    },
    {
      "cell_type": "code",
      "metadata": {
        "colab": {
          "base_uri": "https://localhost:8080/"
        },
        "id": "2qgfCwiXjFQR",
        "outputId": "599ca09b-1202-4981-c2d9-f6a7f597e623"
      },
      "source": [
        "# calculating root mean squared error using sklearn.metrics package\n",
        "rmse = metrics.mean_squared_error(y_test, predictions)\n",
        "print('Root Mean Square Error (sklearn.metrics) =', round((rmse),4))"
      ],
      "execution_count": 691,
      "outputs": [
        {
          "output_type": "stream",
          "text": [
            "Root Mean Square Error (sklearn.metrics) = 6.5022\n"
          ],
          "name": "stdout"
        }
      ]
    },
    {
      "cell_type": "code",
      "metadata": {
        "colab": {
          "base_uri": "https://localhost:8080/",
          "height": 625
        },
        "id": "5_bQXXIjv5vL",
        "outputId": "b71e0f1e-9dbc-4523-a766-e3b3a5326600"
      },
      "source": [
        "# plotting\n",
        "plt.figure(figsize=(16,10))\n",
        "\n",
        "# plt.plot([row[0] for row in y_train], label=\"Training Close Price\")\n",
        "plt.plot(predictions, label=\"Predicted Close Price\")\n",
        "plt.plot([row[0] for row in y_test], label=\"Testing Close Price\")\n",
        "plt.legend(loc='upper center', bbox_to_anchor=(0.5, -0.05), fancybox=True, shadow=True, ncol=2)\n",
        "plt.show()"
      ],
      "execution_count": 616,
      "outputs": [
        {
          "output_type": "display_data",
          "data": {
            "image/png": "[encoded data removed]",
            "text/plain": [
              "<Figure size 1152x720 with 1 Axes>"
            ]
          },
          "metadata": {
            "tags": [],
            "needs_background": "light"
          }
        }
      ]
    },
    {
      "cell_type": "code",
      "metadata": {
        "colab": {
          "base_uri": "https://localhost:8080/",
          "height": 419
        },
        "id": "4YOVbZjEwG8w",
        "outputId": "49c1d0cd-8e46-49a8-ea98-03e784925fb3"
      },
      "source": [
        "df = pd.DataFrame({'Actual': y_test.flatten(), 'Predicted': predictions.flatten()})\n",
        "df"
      ],
      "execution_count": 617,
      "outputs": [
        {
          "output_type": "execute_result",
          "data": {
            "text/html": [
              "<div>\n",
              "<style scoped>\n",
              "    .dataframe tbody tr th:only-of-type {\n",
              "        vertical-align: middle;\n",
              "    }\n",
              "\n",
              "    .dataframe tbody tr th {\n",
              "        vertical-align: top;\n",
              "    }\n",
              "\n",
              "    .dataframe thead th {\n",
              "        text-align: right;\n",
              "    }\n",
              "</style>\n",
              "<table border=\"1\" class=\"dataframe\">\n",
              "  <thead>\n",
              "    <tr style=\"text-align: right;\">\n",
              "      <th></th>\n",
              "      <th>Actual</th>\n",
              "      <th>Predicted</th>\n",
              "    </tr>\n",
              "  </thead>\n",
              "  <tbody>\n",
              "    <tr>\n",
              "      <th>0</th>\n",
              "      <td>192.79</td>\n",
              "      <td>193.041199</td>\n",
              "    </tr>\n",
              "    <tr>\n",
              "      <th>1</th>\n",
              "      <td>192.16</td>\n",
              "      <td>190.596375</td>\n",
              "    </tr>\n",
              "    <tr>\n",
              "      <th>2</th>\n",
              "      <td>188.60</td>\n",
              "      <td>188.627090</td>\n",
              "    </tr>\n",
              "    <tr>\n",
              "      <th>3</th>\n",
              "      <td>184.82</td>\n",
              "      <td>185.222534</td>\n",
              "    </tr>\n",
              "    <tr>\n",
              "      <th>4</th>\n",
              "      <td>185.03</td>\n",
              "      <td>182.783157</td>\n",
              "    </tr>\n",
              "    <tr>\n",
              "      <th>...</th>\n",
              "      <td>...</td>\n",
              "      <td>...</td>\n",
              "    </tr>\n",
              "    <tr>\n",
              "      <th>178</th>\n",
              "      <td>171.19</td>\n",
              "      <td>169.416000</td>\n",
              "    </tr>\n",
              "    <tr>\n",
              "      <th>179</th>\n",
              "      <td>172.91</td>\n",
              "      <td>167.281204</td>\n",
              "    </tr>\n",
              "    <tr>\n",
              "      <th>180</th>\n",
              "      <td>174.80</td>\n",
              "      <td>172.255707</td>\n",
              "    </tr>\n",
              "    <tr>\n",
              "      <th>181</th>\n",
              "      <td>181.72</td>\n",
              "      <td>176.635880</td>\n",
              "    </tr>\n",
              "    <tr>\n",
              "      <th>182</th>\n",
              "      <td>189.47</td>\n",
              "      <td>182.658356</td>\n",
              "    </tr>\n",
              "  </tbody>\n",
              "</table>\n",
              "<p>183 rows × 2 columns</p>\n",
              "</div>"
            ],
            "text/plain": [
              "     Actual   Predicted\n",
              "0    192.79  193.041199\n",
              "1    192.16  190.596375\n",
              "2    188.60  188.627090\n",
              "3    184.82  185.222534\n",
              "4    185.03  182.783157\n",
              "..      ...         ...\n",
              "178  171.19  169.416000\n",
              "179  172.91  167.281204\n",
              "180  174.80  172.255707\n",
              "181  181.72  176.635880\n",
              "182  189.47  182.658356\n",
              "\n",
              "[183 rows x 2 columns]"
            ]
          },
          "metadata": {
            "tags": []
          },
          "execution_count": 617
        }
      ]
    },
    {
      "cell_type": "code",
      "metadata": {
        "colab": {
          "base_uri": "https://localhost:8080/",
          "height": 450
        },
        "id": "Q70wzB23hBBK",
        "outputId": "508303d5-11ae-4a39-ae0a-050175c100b6"
      },
      "source": [
        "# setting the features dataset for prediction  \n",
        "cols = ['neutral','open_price' ,'high', 'low']\n",
        "x2 = data[cols]\n",
        "x2"
      ],
      "execution_count": 673,
      "outputs": [
        {
          "output_type": "execute_result",
          "data": {
            "text/html": [
              "<div>\n",
              "<style scoped>\n",
              "    .dataframe tbody tr th:only-of-type {\n",
              "        vertical-align: middle;\n",
              "    }\n",
              "\n",
              "    .dataframe tbody tr th {\n",
              "        vertical-align: top;\n",
              "    }\n",
              "\n",
              "    .dataframe thead th {\n",
              "        text-align: right;\n",
              "    }\n",
              "</style>\n",
              "<table border=\"1\" class=\"dataframe\">\n",
              "  <thead>\n",
              "    <tr style=\"text-align: right;\">\n",
              "      <th></th>\n",
              "      <th>neutral</th>\n",
              "      <th>open_price</th>\n",
              "      <th>high</th>\n",
              "      <th>low</th>\n",
              "    </tr>\n",
              "    <tr>\n",
              "      <th>Date</th>\n",
              "      <th></th>\n",
              "      <th></th>\n",
              "      <th></th>\n",
              "      <th></th>\n",
              "    </tr>\n",
              "  </thead>\n",
              "  <tbody>\n",
              "    <tr>\n",
              "      <th>1</th>\n",
              "      <td>0.806</td>\n",
              "      <td>119.50</td>\n",
              "      <td>122.30</td>\n",
              "      <td>119.50</td>\n",
              "    </tr>\n",
              "    <tr>\n",
              "      <th>2</th>\n",
              "      <td>0.638</td>\n",
              "      <td>121.75</td>\n",
              "      <td>126.45</td>\n",
              "      <td>121.40</td>\n",
              "    </tr>\n",
              "    <tr>\n",
              "      <th>3</th>\n",
              "      <td>0.726</td>\n",
              "      <td>124.50</td>\n",
              "      <td>125.89</td>\n",
              "      <td>123.75</td>\n",
              "    </tr>\n",
              "    <tr>\n",
              "      <th>4</th>\n",
              "      <td>0.766</td>\n",
              "      <td>125.84</td>\n",
              "      <td>126.06</td>\n",
              "      <td>124.69</td>\n",
              "    </tr>\n",
              "    <tr>\n",
              "      <th>5</th>\n",
              "      <td>0.667</td>\n",
              "      <td>126.24</td>\n",
              "      <td>126.80</td>\n",
              "      <td>123.00</td>\n",
              "    </tr>\n",
              "    <tr>\n",
              "      <th>...</th>\n",
              "      <td>...</td>\n",
              "      <td>...</td>\n",
              "      <td>...</td>\n",
              "      <td>...</td>\n",
              "    </tr>\n",
              "    <tr>\n",
              "      <th>1840</th>\n",
              "      <td>0.814</td>\n",
              "      <td>169.05</td>\n",
              "      <td>175.50</td>\n",
              "      <td>166.56</td>\n",
              "    </tr>\n",
              "    <tr>\n",
              "      <th>1841</th>\n",
              "      <td>0.828</td>\n",
              "      <td>165.00</td>\n",
              "      <td>174.25</td>\n",
              "      <td>165.00</td>\n",
              "    </tr>\n",
              "    <tr>\n",
              "      <th>1842</th>\n",
              "      <td>0.824</td>\n",
              "      <td>172.00</td>\n",
              "      <td>176.49</td>\n",
              "      <td>171.00</td>\n",
              "    </tr>\n",
              "    <tr>\n",
              "      <th>1843</th>\n",
              "      <td>0.786</td>\n",
              "      <td>175.00</td>\n",
              "      <td>183.54</td>\n",
              "      <td>174.02</td>\n",
              "    </tr>\n",
              "    <tr>\n",
              "      <th>1844</th>\n",
              "      <td>0.797</td>\n",
              "      <td>181.00</td>\n",
              "      <td>189.74</td>\n",
              "      <td>180.02</td>\n",
              "    </tr>\n",
              "  </tbody>\n",
              "</table>\n",
              "<p>1844 rows × 4 columns</p>\n",
              "</div>"
            ],
            "text/plain": [
              "      neutral  open_price    high     low\n",
              "Date                                     \n",
              "1       0.806      119.50  122.30  119.50\n",
              "2       0.638      121.75  126.45  121.40\n",
              "3       0.726      124.50  125.89  123.75\n",
              "4       0.766      125.84  126.06  124.69\n",
              "5       0.667      126.24  126.80  123.00\n",
              "...       ...         ...     ...     ...\n",
              "1840    0.814      169.05  175.50  166.56\n",
              "1841    0.828      165.00  174.25  165.00\n",
              "1842    0.824      172.00  176.49  171.00\n",
              "1843    0.786      175.00  183.54  174.02\n",
              "1844    0.797      181.00  189.74  180.02\n",
              "\n",
              "[1844 rows x 4 columns]"
            ]
          },
          "metadata": {
            "tags": []
          },
          "execution_count": 673
        }
      ]
    },
    {
      "cell_type": "code",
      "metadata": {
        "colab": {
          "base_uri": "https://localhost:8080/"
        },
        "id": "B3IHZ7xn2z-m",
        "outputId": "b49e40fa-8db5-4746-825e-b77bb37be565"
      },
      "source": [
        "# setting the target variable as the shifted close_price\n",
        "y2 = data['close_price']\n",
        "y2"
      ],
      "execution_count": 674,
      "outputs": [
        {
          "output_type": "execute_result",
          "data": {
            "text/plain": [
              "Date\n",
              "1       121.87\n",
              "2       124.93\n",
              "3       124.98\n",
              "4       124.99\n",
              "5       123.56\n",
              "         ...  \n",
              "1840    171.19\n",
              "1841    172.91\n",
              "1842    174.80\n",
              "1843    181.72\n",
              "1844    189.47\n",
              "Name: close_price, Length: 1844, dtype: float64"
            ]
          },
          "metadata": {
            "tags": []
          },
          "execution_count": 674
        }
      ]
    },
    {
      "cell_type": "code",
      "metadata": {
        "colab": {
          "base_uri": "https://localhost:8080/"
        },
        "id": "GC8JtpT_29bB",
        "outputId": "704b963b-d72d-4626-b801-ad8ed5b83e61"
      },
      "source": [
        "# scaling the feature dataset\n",
        "scaler_x2 = preprocessing.MinMaxScaler (feature_range=(-1, 1))\n",
        "x2 = np.array(x2).reshape((len(x2) ,len(cols)))\n",
        "x2 = scaler_x2.fit_transform(x2)\n",
        "\n",
        "# scaling the target variable\n",
        "scaler_y2 = preprocessing.MinMaxScaler (feature_range=(-1, 1))\n",
        "y2 = np.array (y2).reshape ((len( y2), 1))\n",
        "y2 = scaler_y2.fit_transform (y2)\n",
        "\n",
        "# displaying the scaled feature dataset and the target variable\n",
        "x2, y2"
      ],
      "execution_count": 675,
      "outputs": [
        {
          "output_type": "execute_result",
          "data": {
            "text/plain": [
              "(array([[ 0.72961373, -0.71776375, -0.704     , -0.71135719],\n",
              "        [ 0.36909871, -0.6974752 , -0.66711111, -0.69396907],\n",
              "        [ 0.55793991, -0.67267809, -0.67208889, -0.67246271],\n",
              "        ...,\n",
              "        [ 0.76824034, -0.24436429, -0.22231111, -0.24004759],\n",
              "        [ 0.68669528, -0.21731289, -0.15964444, -0.21240963],\n",
              "        [ 0.71030043, -0.1632101 , -0.10453333, -0.15749977]]),\n",
              " array([[-0.69288661],\n",
              "        [-0.66514032],\n",
              "        [-0.66468695],\n",
              "        ...,\n",
              "        [-0.21294827],\n",
              "        [-0.15020175],\n",
              "        [-0.07992927]]))"
            ]
          },
          "metadata": {
            "tags": []
          },
          "execution_count": 675
        }
      ]
    },
    {
      "cell_type": "code",
      "metadata": {
        "colab": {
          "base_uri": "https://localhost:8080/"
        },
        "id": "iGGo9F4L3D5P",
        "outputId": "6cf9e159-cf1e-4e00-9ac1-0c5eef16988b"
      },
      "source": [
        "# preparing training and test dataset\n",
        "X_train2 = x2[0 : train_end,]\n",
        "X_test2 = x2[train_end+1 : len(x2),]    \n",
        "y_train2 = y2[0 : train_end] \n",
        "y_test2 = y2[train_end+1 : len(y2)]  \n",
        "\n",
        "# printing the shape of the training and the test datasets\n",
        "print('Number of rows and columns in the Training set X:', X_train2.shape, 'and y:', y_train2.shape)\n",
        "print('Number of rows and columns in the Test set X:', X_test2.shape, 'and y:', y_test2.shape)"
      ],
      "execution_count": 676,
      "outputs": [
        {
          "output_type": "stream",
          "text": [
            "Number of rows and columns in the Training set X: (1660, 4) and y: (1660, 1)\n",
            "Number of rows and columns in the Test set X: (183, 4) and y: (183, 1)\n"
          ],
          "name": "stdout"
        }
      ]
    },
    {
      "cell_type": "code",
      "metadata": {
        "colab": {
          "base_uri": "https://localhost:8080/"
        },
        "id": "OpiAHC4U3GF0",
        "outputId": "4ea77b79-bb75-474d-bdc2-8115d93c8ccb"
      },
      "source": [
        "# reshaping the feature dataset for feeding into the model\n",
        "X_train2 = X_train2.reshape (X_train2.shape + (1,)) \n",
        "X_test2 = X_test2.reshape(X_test2.shape + (1,))\n",
        "\n",
        "# printing the re-shaped feature dataset\n",
        "print('Shape of Training set X:', X_train2.shape)\n",
        "print('Shape of Test set X:', X_test2.shape)"
      ],
      "execution_count": 677,
      "outputs": [
        {
          "output_type": "stream",
          "text": [
            "Shape of Training set X: (1660, 4, 1)\n",
            "Shape of Test set X: (183, 4, 1)\n"
          ],
          "name": "stdout"
        }
      ]
    },
    {
      "cell_type": "code",
      "metadata": {
        "colab": {
          "base_uri": "https://localhost:8080/"
        },
        "id": "G6sIdjAi3INl",
        "outputId": "87708092-c435-4525-b5e3-76894081ddf0"
      },
      "source": [
        "np.random.seed(2016)\n",
        "tf.random.set_seed(2016)\n",
        "model=Sequential()\n",
        "model.add(LSTM(5,activation='tanh',input_shape=(len(cols),1)))\n",
        "model.add(Dropout(0.2))\n",
        "model.add(Dense(1))\n",
        "model.summary()"
      ],
      "execution_count": 678,
      "outputs": [
        {
          "output_type": "stream",
          "text": [
            "Model: \"sequential_70\"\n",
            "_________________________________________________________________\n",
            "Layer (type)                 Output Shape              Param #   \n",
            "=================================================================\n",
            "lstm_70 (LSTM)               (None, 5)                 140       \n",
            "_________________________________________________________________\n",
            "dropout_70 (Dropout)         (None, 5)                 0         \n",
            "_________________________________________________________________\n",
            "dense_70 (Dense)             (None, 1)                 6         \n",
            "=================================================================\n",
            "Total params: 146\n",
            "Trainable params: 146\n",
            "Non-trainable params: 0\n",
            "_________________________________________________________________\n"
          ],
          "name": "stdout"
        }
      ]
    },
    {
      "cell_type": "code",
      "metadata": {
        "colab": {
          "base_uri": "https://localhost:8080/"
        },
        "id": "9JOq36bW3YBt",
        "outputId": "6f37ee7e-7b78-4290-d12d-e89a512994a4"
      },
      "source": [
        "# compiling the model\n",
        "model.compile(loss='mse' , optimizer='adam')\n",
        "\n",
        "# fitting the model using the training dataset\n",
        "hist = model.fit(X_train2, y_train2, validation_split=0.1, epochs=5, batch_size=5)"
      ],
      "execution_count": 679,
      "outputs": [
        {
          "output_type": "stream",
          "text": [
            "Epoch 1/5\n",
            "299/299 [==============================] - 3s 5ms/step - loss: 0.1476 - val_loss: 0.0589\n",
            "Epoch 2/5\n",
            "299/299 [==============================] - 1s 3ms/step - loss: 0.0228 - val_loss: 0.0242\n",
            "Epoch 3/5\n",
            "299/299 [==============================] - 1s 3ms/step - loss: 0.0169 - val_loss: 0.0192\n",
            "Epoch 4/5\n",
            "299/299 [==============================] - 1s 3ms/step - loss: 0.0144 - val_loss: 0.0173\n",
            "Epoch 5/5\n",
            "299/299 [==============================] - 1s 3ms/step - loss: 0.0122 - val_loss: 0.0125\n"
          ],
          "name": "stdout"
        }
      ]
    },
    {
      "cell_type": "code",
      "metadata": {
        "colab": {
          "base_uri": "https://localhost:8080/",
          "height": 295
        },
        "id": "8SBifijM3aW0",
        "outputId": "fd5956d4-1306-4c0b-f8de-409782f5d0a4"
      },
      "source": [
        "plt.plot(hist.history['loss'])\n",
        "plt.plot(hist.history['val_loss'])\n",
        "plt.title('Model loss')\n",
        "plt.ylabel('Loss')\n",
        "plt.xlabel('Epoch')\n",
        "plt.legend(['Train', 'Val'], loc='upper right')\n",
        "plt.show()"
      ],
      "execution_count": 680,
      "outputs": [
        {
          "output_type": "display_data",
          "data": {
            "image/png": "[encoded data removed]",
            "text/plain": [
              "<Figure size 432x288 with 1 Axes>"
            ]
          },
          "metadata": {
            "tags": [],
            "needs_background": "light"
          }
        }
      ]
    },
    {
      "cell_type": "code",
      "metadata": {
        "id": "hFMoKlHO3oZV",
        "colab": {
          "base_uri": "https://localhost:8080/"
        },
        "outputId": "bb55040f-8046-4d28-cc0e-ad46149497ae"
      },
      "source": [
        "# performing predictions\n",
        "predictions2 = model.predict(X_test2) \n",
        "\n",
        "# unscaling the predictions\n",
        "predictions2 = scaler_y2.inverse_transform(np.array(predictions2).reshape((len(predictions2), 1)))\n",
        "\n",
        "# printing the predictions\n",
        "print('Predictions:')\n",
        "predictions2[0:5]"
      ],
      "execution_count": 681,
      "outputs": [
        {
          "output_type": "stream",
          "text": [
            "Predictions:\n"
          ],
          "name": "stdout"
        },
        {
          "output_type": "execute_result",
          "data": {
            "text/plain": [
              "array([[192.57382],\n",
              "       [191.65466],\n",
              "       [189.29521],\n",
              "       [187.31502],\n",
              "       [184.54283]], dtype=float32)"
            ]
          },
          "metadata": {
            "tags": []
          },
          "execution_count": 681
        }
      ]
    },
    {
      "cell_type": "code",
      "metadata": {
        "colab": {
          "base_uri": "https://localhost:8080/"
        },
        "id": "VqxA8FtKRj6v",
        "outputId": "c0936422-83c3-48f0-a710-786d8ff7ded4"
      },
      "source": [
        "# calculating the training mean-squared-error\n",
        "train_loss2 = model.evaluate(X_train2, y_train2, batch_size = 1)\n",
        "\n",
        "# calculating the test mean-squared-error\n",
        "test_loss2 = model.evaluate(X_test2, y_test2, batch_size = 1)\n",
        "\n",
        "# printing the training and the test mean-squared-errors\n",
        "print('Train Loss =', round(train_loss2,4))\n",
        "print('Test Loss =', round(test_loss2,4))"
      ],
      "execution_count": 682,
      "outputs": [
        {
          "output_type": "stream",
          "text": [
            "1660/1660 [==============================] - 3s 2ms/step - loss: 0.0026\n",
            "183/183 [==============================] - 0s 2ms/step - loss: 6.0787e-04\n",
            "Train Loss = 0.0026\n",
            "Test Loss = 0.0006\n"
          ],
          "name": "stdout"
        }
      ]
    },
    {
      "cell_type": "code",
      "metadata": {
        "id": "182JYwAZRmY1"
      },
      "source": [
        "# unscaling the test feature dataset, x_test\n",
        "X_test2 = scaler_x2.inverse_transform(np.array(X_test2).reshape((len(X_test2), len(cols))))\n",
        "\n",
        "# unscaling the test y dataset, y_test\n",
        "y_train2 = scaler_y2.inverse_transform(np.array(y_train2).reshape((len(y_train2), 1)))\n",
        "y_test2 = scaler_y2.inverse_transform(np.array(y_test2).reshape((len(y_test2), 1)))"
      ],
      "execution_count": 683,
      "outputs": []
    },
    {
      "cell_type": "code",
      "metadata": {
        "colab": {
          "base_uri": "https://localhost:8080/"
        },
        "id": "Qi-1m9pnRoUl",
        "outputId": "511416f4-170b-43e7-abcb-85b383af115a"
      },
      "source": [
        "# calculating root mean squared error\n",
        "root_mean_square_error = np.sqrt(np.mean(np.power((y_test2 - predictions2),2)))\n",
        "print('Root Mean Square Error =', round(root_mean_square_error,4))"
      ],
      "execution_count": 684,
      "outputs": [
        {
          "output_type": "stream",
          "text": [
            "Root Mean Square Error = 2.7191\n"
          ],
          "name": "stdout"
        }
      ]
    },
    {
      "cell_type": "code",
      "metadata": {
        "colab": {
          "base_uri": "https://localhost:8080/"
        },
        "id": "M8oziCVjRqNh",
        "outputId": "b70ebad8-b97b-4820-98e5-eef847d6cc7c"
      },
      "source": [
        "# calculating root mean squared error using sklearn.metrics package\n",
        "rmse = metrics.mean_squared_error(y_test2, predictions2)\n",
        "print('Root Mean Square Error (sklearn.metrics) =', round((rmse),4))"
      ],
      "execution_count": 689,
      "outputs": [
        {
          "output_type": "stream",
          "text": [
            "Root Mean Square Error (sklearn.metrics) = 7.3933\n"
          ],
          "name": "stdout"
        }
      ]
    },
    {
      "cell_type": "code",
      "metadata": {
        "colab": {
          "base_uri": "https://localhost:8080/",
          "height": 625
        },
        "id": "9LFndvfta0Jk",
        "outputId": "c88ce168-195e-4825-d686-dceb4dc3f443"
      },
      "source": [
        "# plotting\n",
        "plt.figure(figsize=(16,10))\n",
        "\n",
        "# plt.plot([row[0] for row in y_train], label=\"Training Close Price\")\n",
        "plt.plot(predictions2, label=\"Predicted Close Price with news\")\n",
        "plt.plot([row[0] for row in y_test2], label=\"Testing Close Price\")\n",
        "plt.legend(loc='upper center', bbox_to_anchor=(0.5, -0.05), fancybox=True, shadow=True, ncol=4)\n",
        "plt.show()"
      ],
      "execution_count": 686,
      "outputs": [
        {
          "output_type": "display_data",
          "data": {
            "image/png": "[encoded data removed]",
            "text/plain": [
              "<Figure size 1152x720 with 1 Axes>"
            ]
          },
          "metadata": {
            "tags": [],
            "needs_background": "light"
          }
        }
      ]
    },
    {
      "cell_type": "code",
      "metadata": {
        "colab": {
          "base_uri": "https://localhost:8080/",
          "height": 625
        },
        "id": "7p45a5LRRsNh",
        "outputId": "1095fa07-272d-4e1e-f723-b92594b538eb"
      },
      "source": [
        "# plotting\n",
        "plt.figure(figsize=(16,10))\n",
        "\n",
        "# plt.plot([row[0] for row in y_train], label=\"Training Close Price\")\n",
        "plt.plot(predictions, label=\"Predicted Close Price without news\")\n",
        "plt.plot(predictions2, label=\"Predicted Close Price with news\")\n",
        "plt.plot([row[0] for row in y_test2], label=\"Testing Close Price\")\n",
        "plt.legend(loc='upper center', bbox_to_anchor=(0.5, -0.05), fancybox=True, shadow=True, ncol=4)\n",
        "plt.show()"
      ],
      "execution_count": 687,
      "outputs": [
        {
          "output_type": "display_data",
          "data": {
            "image/png": "[encoded data removed]",
            "text/plain": [
              "<Figure size 1152x720 with 1 Axes>"
            ]
          },
          "metadata": {
            "tags": [],
            "needs_background": "light"
          }
        }
      ]
    },
    {
      "cell_type": "code",
      "metadata": {
        "colab": {
          "base_uri": "https://localhost:8080/",
          "height": 419
        },
        "id": "xrjQ5gVoRu98",
        "outputId": "8f5d852f-d29f-40bf-d7c0-70b5d27eefdf"
      },
      "source": [
        "df = pd.DataFrame({'Actual': y_test2.flatten(), 'Predicted': predictions2.flatten()})\n",
        "df"
      ],
      "execution_count": 688,
      "outputs": [
        {
          "output_type": "execute_result",
          "data": {
            "text/html": [
              "<div>\n",
              "<style scoped>\n",
              "    .dataframe tbody tr th:only-of-type {\n",
              "        vertical-align: middle;\n",
              "    }\n",
              "\n",
              "    .dataframe tbody tr th {\n",
              "        vertical-align: top;\n",
              "    }\n",
              "\n",
              "    .dataframe thead th {\n",
              "        text-align: right;\n",
              "    }\n",
              "</style>\n",
              "<table border=\"1\" class=\"dataframe\">\n",
              "  <thead>\n",
              "    <tr style=\"text-align: right;\">\n",
              "      <th></th>\n",
              "      <th>Actual</th>\n",
              "      <th>Predicted</th>\n",
              "    </tr>\n",
              "  </thead>\n",
              "  <tbody>\n",
              "    <tr>\n",
              "      <th>0</th>\n",
              "      <td>192.79</td>\n",
              "      <td>192.573822</td>\n",
              "    </tr>\n",
              "    <tr>\n",
              "      <th>1</th>\n",
              "      <td>192.16</td>\n",
              "      <td>191.654663</td>\n",
              "    </tr>\n",
              "    <tr>\n",
              "      <th>2</th>\n",
              "      <td>188.60</td>\n",
              "      <td>189.295212</td>\n",
              "    </tr>\n",
              "    <tr>\n",
              "      <th>3</th>\n",
              "      <td>184.82</td>\n",
              "      <td>187.315018</td>\n",
              "    </tr>\n",
              "    <tr>\n",
              "      <th>4</th>\n",
              "      <td>185.03</td>\n",
              "      <td>184.542831</td>\n",
              "    </tr>\n",
              "    <tr>\n",
              "      <th>...</th>\n",
              "      <td>...</td>\n",
              "      <td>...</td>\n",
              "    </tr>\n",
              "    <tr>\n",
              "      <th>178</th>\n",
              "      <td>171.19</td>\n",
              "      <td>172.024078</td>\n",
              "    </tr>\n",
              "    <tr>\n",
              "      <th>179</th>\n",
              "      <td>172.91</td>\n",
              "      <td>170.473145</td>\n",
              "    </tr>\n",
              "    <tr>\n",
              "      <th>180</th>\n",
              "      <td>174.80</td>\n",
              "      <td>175.150650</td>\n",
              "    </tr>\n",
              "    <tr>\n",
              "      <th>181</th>\n",
              "      <td>181.72</td>\n",
              "      <td>177.960037</td>\n",
              "    </tr>\n",
              "    <tr>\n",
              "      <th>182</th>\n",
              "      <td>189.47</td>\n",
              "      <td>184.210434</td>\n",
              "    </tr>\n",
              "  </tbody>\n",
              "</table>\n",
              "<p>183 rows × 2 columns</p>\n",
              "</div>"
            ],
            "text/plain": [
              "     Actual   Predicted\n",
              "0    192.79  192.573822\n",
              "1    192.16  191.654663\n",
              "2    188.60  189.295212\n",
              "3    184.82  187.315018\n",
              "4    185.03  184.542831\n",
              "..      ...         ...\n",
              "178  171.19  172.024078\n",
              "179  172.91  170.473145\n",
              "180  174.80  175.150650\n",
              "181  181.72  177.960037\n",
              "182  189.47  184.210434\n",
              "\n",
              "[183 rows x 2 columns]"
            ]
          },
          "metadata": {
            "tags": []
          },
          "execution_count": 688
        }
      ]
    },
    {
      "cell_type": "code",
      "metadata": {
        "id": "pmT4EbYdRySY"
      },
      "source": [
        ""
      ],
      "execution_count": null,
      "outputs": []
    }
  ]
}